{
 "cells": [
  {
   "cell_type": "markdown",
   "id": "a53525de-5111-4932-8807-2d14d883f1ec",
   "metadata": {},
   "source": [
    "## Import Data"
   ]
  },
  {
   "cell_type": "code",
   "execution_count": 1,
   "id": "98400182-3941-44d8-be3e-ac1491917a70",
   "metadata": {},
   "outputs": [
    {
     "data": {
      "text/html": [
       "<div>\n",
       "<style scoped>\n",
       "    .dataframe tbody tr th:only-of-type {\n",
       "        vertical-align: middle;\n",
       "    }\n",
       "\n",
       "    .dataframe tbody tr th {\n",
       "        vertical-align: top;\n",
       "    }\n",
       "\n",
       "    .dataframe thead th {\n",
       "        text-align: right;\n",
       "    }\n",
       "</style>\n",
       "<table border=\"1\" class=\"dataframe\">\n",
       "  <thead>\n",
       "    <tr style=\"text-align: right;\">\n",
       "      <th></th>\n",
       "      <th>Loan_ID</th>\n",
       "      <th>Gender</th>\n",
       "      <th>Married</th>\n",
       "      <th>Dependents</th>\n",
       "      <th>Education</th>\n",
       "      <th>Self_Employed</th>\n",
       "      <th>ApplicantIncome</th>\n",
       "      <th>CoapplicantIncome</th>\n",
       "      <th>LoanAmount</th>\n",
       "      <th>Loan_Amount_Term</th>\n",
       "      <th>Credit_History</th>\n",
       "      <th>Property_Area</th>\n",
       "      <th>Loan_Status</th>\n",
       "    </tr>\n",
       "  </thead>\n",
       "  <tbody>\n",
       "    <tr>\n",
       "      <th>0</th>\n",
       "      <td>LP001002</td>\n",
       "      <td>Male</td>\n",
       "      <td>No</td>\n",
       "      <td>0</td>\n",
       "      <td>Graduate</td>\n",
       "      <td>No</td>\n",
       "      <td>5849</td>\n",
       "      <td>0.0</td>\n",
       "      <td>NaN</td>\n",
       "      <td>360.0</td>\n",
       "      <td>1.0</td>\n",
       "      <td>Urban</td>\n",
       "      <td>Y</td>\n",
       "    </tr>\n",
       "    <tr>\n",
       "      <th>1</th>\n",
       "      <td>LP001003</td>\n",
       "      <td>Male</td>\n",
       "      <td>Yes</td>\n",
       "      <td>1</td>\n",
       "      <td>Graduate</td>\n",
       "      <td>No</td>\n",
       "      <td>4583</td>\n",
       "      <td>1508.0</td>\n",
       "      <td>128.0</td>\n",
       "      <td>360.0</td>\n",
       "      <td>1.0</td>\n",
       "      <td>Rural</td>\n",
       "      <td>N</td>\n",
       "    </tr>\n",
       "    <tr>\n",
       "      <th>2</th>\n",
       "      <td>LP001005</td>\n",
       "      <td>Male</td>\n",
       "      <td>Yes</td>\n",
       "      <td>0</td>\n",
       "      <td>Graduate</td>\n",
       "      <td>Yes</td>\n",
       "      <td>3000</td>\n",
       "      <td>0.0</td>\n",
       "      <td>66.0</td>\n",
       "      <td>360.0</td>\n",
       "      <td>1.0</td>\n",
       "      <td>Urban</td>\n",
       "      <td>Y</td>\n",
       "    </tr>\n",
       "    <tr>\n",
       "      <th>3</th>\n",
       "      <td>LP001006</td>\n",
       "      <td>Male</td>\n",
       "      <td>Yes</td>\n",
       "      <td>0</td>\n",
       "      <td>Not Graduate</td>\n",
       "      <td>No</td>\n",
       "      <td>2583</td>\n",
       "      <td>2358.0</td>\n",
       "      <td>120.0</td>\n",
       "      <td>360.0</td>\n",
       "      <td>1.0</td>\n",
       "      <td>Urban</td>\n",
       "      <td>Y</td>\n",
       "    </tr>\n",
       "    <tr>\n",
       "      <th>4</th>\n",
       "      <td>LP001008</td>\n",
       "      <td>Male</td>\n",
       "      <td>No</td>\n",
       "      <td>0</td>\n",
       "      <td>Graduate</td>\n",
       "      <td>No</td>\n",
       "      <td>6000</td>\n",
       "      <td>0.0</td>\n",
       "      <td>141.0</td>\n",
       "      <td>360.0</td>\n",
       "      <td>1.0</td>\n",
       "      <td>Urban</td>\n",
       "      <td>Y</td>\n",
       "    </tr>\n",
       "    <tr>\n",
       "      <th>5</th>\n",
       "      <td>LP001011</td>\n",
       "      <td>Male</td>\n",
       "      <td>Yes</td>\n",
       "      <td>2</td>\n",
       "      <td>Graduate</td>\n",
       "      <td>Yes</td>\n",
       "      <td>5417</td>\n",
       "      <td>4196.0</td>\n",
       "      <td>267.0</td>\n",
       "      <td>360.0</td>\n",
       "      <td>1.0</td>\n",
       "      <td>Urban</td>\n",
       "      <td>Y</td>\n",
       "    </tr>\n",
       "    <tr>\n",
       "      <th>6</th>\n",
       "      <td>LP001013</td>\n",
       "      <td>Male</td>\n",
       "      <td>Yes</td>\n",
       "      <td>0</td>\n",
       "      <td>Not Graduate</td>\n",
       "      <td>No</td>\n",
       "      <td>2333</td>\n",
       "      <td>1516.0</td>\n",
       "      <td>95.0</td>\n",
       "      <td>360.0</td>\n",
       "      <td>1.0</td>\n",
       "      <td>Urban</td>\n",
       "      <td>Y</td>\n",
       "    </tr>\n",
       "    <tr>\n",
       "      <th>7</th>\n",
       "      <td>LP001014</td>\n",
       "      <td>Male</td>\n",
       "      <td>Yes</td>\n",
       "      <td>3+</td>\n",
       "      <td>Graduate</td>\n",
       "      <td>No</td>\n",
       "      <td>3036</td>\n",
       "      <td>2504.0</td>\n",
       "      <td>158.0</td>\n",
       "      <td>360.0</td>\n",
       "      <td>0.0</td>\n",
       "      <td>Semiurban</td>\n",
       "      <td>N</td>\n",
       "    </tr>\n",
       "    <tr>\n",
       "      <th>8</th>\n",
       "      <td>LP001018</td>\n",
       "      <td>Male</td>\n",
       "      <td>Yes</td>\n",
       "      <td>2</td>\n",
       "      <td>Graduate</td>\n",
       "      <td>No</td>\n",
       "      <td>4006</td>\n",
       "      <td>1526.0</td>\n",
       "      <td>168.0</td>\n",
       "      <td>360.0</td>\n",
       "      <td>1.0</td>\n",
       "      <td>Urban</td>\n",
       "      <td>Y</td>\n",
       "    </tr>\n",
       "    <tr>\n",
       "      <th>9</th>\n",
       "      <td>LP001020</td>\n",
       "      <td>Male</td>\n",
       "      <td>Yes</td>\n",
       "      <td>1</td>\n",
       "      <td>Graduate</td>\n",
       "      <td>No</td>\n",
       "      <td>12841</td>\n",
       "      <td>10968.0</td>\n",
       "      <td>349.0</td>\n",
       "      <td>360.0</td>\n",
       "      <td>1.0</td>\n",
       "      <td>Semiurban</td>\n",
       "      <td>N</td>\n",
       "    </tr>\n",
       "  </tbody>\n",
       "</table>\n",
       "</div>"
      ],
      "text/plain": [
       "    Loan_ID Gender Married Dependents     Education Self_Employed  \\\n",
       "0  LP001002   Male      No          0      Graduate            No   \n",
       "1  LP001003   Male     Yes          1      Graduate            No   \n",
       "2  LP001005   Male     Yes          0      Graduate           Yes   \n",
       "3  LP001006   Male     Yes          0  Not Graduate            No   \n",
       "4  LP001008   Male      No          0      Graduate            No   \n",
       "5  LP001011   Male     Yes          2      Graduate           Yes   \n",
       "6  LP001013   Male     Yes          0  Not Graduate            No   \n",
       "7  LP001014   Male     Yes         3+      Graduate            No   \n",
       "8  LP001018   Male     Yes          2      Graduate            No   \n",
       "9  LP001020   Male     Yes          1      Graduate            No   \n",
       "\n",
       "   ApplicantIncome  CoapplicantIncome  LoanAmount  Loan_Amount_Term  \\\n",
       "0             5849                0.0         NaN             360.0   \n",
       "1             4583             1508.0       128.0             360.0   \n",
       "2             3000                0.0        66.0             360.0   \n",
       "3             2583             2358.0       120.0             360.0   \n",
       "4             6000                0.0       141.0             360.0   \n",
       "5             5417             4196.0       267.0             360.0   \n",
       "6             2333             1516.0        95.0             360.0   \n",
       "7             3036             2504.0       158.0             360.0   \n",
       "8             4006             1526.0       168.0             360.0   \n",
       "9            12841            10968.0       349.0             360.0   \n",
       "\n",
       "   Credit_History Property_Area Loan_Status  \n",
       "0             1.0         Urban           Y  \n",
       "1             1.0         Rural           N  \n",
       "2             1.0         Urban           Y  \n",
       "3             1.0         Urban           Y  \n",
       "4             1.0         Urban           Y  \n",
       "5             1.0         Urban           Y  \n",
       "6             1.0         Urban           Y  \n",
       "7             0.0     Semiurban           N  \n",
       "8             1.0         Urban           Y  \n",
       "9             1.0     Semiurban           N  "
      ]
     },
     "execution_count": 1,
     "metadata": {},
     "output_type": "execute_result"
    }
   ],
   "source": [
    "# import libraries\n",
    "\n",
    "import numpy\n",
    "import pandas\n",
    "import matplotlib\n",
    "\n",
    "\n",
    "df = pandas.read_csv(\"train.csv\")\n",
    "\n",
    "\n",
    "# df has 614 rows x 13 columns \n",
    "df.head(10)"
   ]
  },
  {
   "cell_type": "markdown",
   "id": "6d0340e4-2a60-4416-b715-da8945c5c381",
   "metadata": {},
   "source": [
    "## Null values"
   ]
  },
  {
   "cell_type": "code",
   "execution_count": 2,
   "id": "c95881db-9b62-4de8-b59f-59db862436a6",
   "metadata": {},
   "outputs": [
    {
     "name": "stdout",
     "output_type": "stream",
     "text": [
      "Loan_ID               0\n",
      "Gender               13\n",
      "Married               3\n",
      "Dependents           15\n",
      "Education             0\n",
      "Self_Employed        32\n",
      "ApplicantIncome       0\n",
      "CoapplicantIncome     0\n",
      "LoanAmount           22\n",
      "Loan_Amount_Term     14\n",
      "Credit_History       50\n",
      "Property_Area         0\n",
      "Loan_Status           0\n",
      "dtype: int64\n"
     ]
    }
   ],
   "source": [
    "# how many null values do we have ?\n",
    "\n",
    "nan_values = df.isna().sum()\n",
    "\n",
    "print(nan_values)"
   ]
  },
  {
   "cell_type": "markdown",
   "id": "eb169147-bc50-4fd9-832d-548630231bd1",
   "metadata": {},
   "source": [
    "## Unique entries - excluding Null Values"
   ]
  },
  {
   "cell_type": "code",
   "execution_count": 3,
   "id": "a7ebe251-dc1a-4be0-a157-43debd3e32a5",
   "metadata": {},
   "outputs": [
    {
     "name": "stdout",
     "output_type": "stream",
     "text": [
      "Loan_ID            -> 614\n",
      "Gender             -> 2\n",
      "Married            -> 2\n",
      "Dependents         -> 4\n",
      "Education          -> 2\n",
      "Self_Employed      -> 2\n",
      "ApplicantIncome    -> 505\n",
      "CoapplicantIncome  -> 287\n",
      "LoanAmount         -> 203\n",
      "Loan_Amount_Term   -> 10\n",
      "Credit_History     -> 2\n",
      "Property_Area      -> 3\n",
      "Loan_Status        -> 2\n"
     ]
    }
   ],
   "source": [
    "\n",
    "for column in df.columns:\n",
    "    unique_entries_count = df[column].nunique()\n",
    "    print(f\"{column:{18}} -> {unique_entries_count:{0}}\")"
   ]
  },
  {
   "cell_type": "markdown",
   "id": "e16f644f-fe9d-4adb-9a34-1c082f94fd7d",
   "metadata": {},
   "source": [
    "## Unique entries - including Null Values"
   ]
  },
  {
   "cell_type": "code",
   "execution_count": 4,
   "id": "ae8457e6-c7e0-4c88-866a-360f313f4cf2",
   "metadata": {},
   "outputs": [
    {
     "name": "stdout",
     "output_type": "stream",
     "text": [
      "Number of unique entries in each column, including NaN:\n",
      "Loan_ID              614\n",
      "Gender                 3\n",
      "Married                3\n",
      "Dependents             5\n",
      "Education              2\n",
      "Self_Employed          3\n",
      "ApplicantIncome      505\n",
      "CoapplicantIncome    287\n",
      "LoanAmount           204\n",
      "Loan_Amount_Term      11\n",
      "Credit_History         3\n",
      "Property_Area          3\n",
      "Loan_Status            2\n",
      "dtype: int64\n"
     ]
    }
   ],
   "source": [
    "\n",
    "unique_entries = df.apply(lambda x: x.nunique(dropna=False))\n",
    "\n",
    "# Print the number of unique entries for each column\n",
    "print(\"Number of unique entries in each column, including NaN:\")\n",
    "print(unique_entries)\n"
   ]
  },
  {
   "cell_type": "markdown",
   "id": "67067527-d8a3-4f62-a168-546f9b132bee",
   "metadata": {},
   "source": [
    "## Data visualization - Histogram "
   ]
  },
  {
   "cell_type": "code",
   "execution_count": 5,
   "id": "1fd081bc-2767-4173-9d81-8b18419b2426",
   "metadata": {},
   "outputs": [
    {
     "data": {
      "image/png": "[encoded data removed]",
      "text/plain": [
       "<Figure size 640x480 with 1 Axes>"
      ]
     },
     "metadata": {},
     "output_type": "display_data"
    }
   ],
   "source": [
    "import pandas as pd\n",
    "import matplotlib.pyplot as plt\n",
    "\n",
    "df['LoanAmount'].hist(bins=20)\n",
    "plt.title('Histogram of Loan Amount')\n",
    "plt.xlabel('Loan Amount')\n",
    "plt.ylabel('Frequency')\n",
    "plt.show()"
   ]
  },
  {
   "cell_type": "code",
   "execution_count": 6,
   "id": "3b93aed7-7eae-4dfa-beb9-d31ac8014418",
   "metadata": {},
   "outputs": [],
   "source": [
    "# column names \n",
    "cols = list(df.columns)"
   ]
  },
  {
   "cell_type": "code",
   "execution_count": 7,
   "id": "16be199d-241c-4cad-bd73-8a07ac9555e0",
   "metadata": {},
   "outputs": [
    {
     "data": {
      "text/plain": [
       "0      360.0\n",
       "1      360.0\n",
       "2      360.0\n",
       "3      360.0\n",
       "4      360.0\n",
       "       ...  \n",
       "609    360.0\n",
       "610    180.0\n",
       "611    360.0\n",
       "612    360.0\n",
       "613    360.0\n",
       "Name: Loan_Amount_Term, Length: 614, dtype: float64"
      ]
     },
     "execution_count": 7,
     "metadata": {},
     "output_type": "execute_result"
    }
   ],
   "source": [
    "df[\"Loan_Amount_Term\"]"
   ]
  },
  {
   "cell_type": "markdown",
   "id": "a76ad352-adde-41ae-ba1c-f68229ccc8d7",
   "metadata": {},
   "source": [
    "## read csv file to a python tuple"
   ]
  },
  {
   "cell_type": "code",
   "execution_count": 8,
   "id": "c1344b73-ec28-498e-9ca0-8161335cb29f",
   "metadata": {},
   "outputs": [
    {
     "name": "stdout",
     "output_type": "stream",
     "text": [
      "[('Loan_ID', 'Gender', 'Married', 'Dependents', 'Education', 'Self_Employed', 'ApplicantIncome', 'CoapplicantIncome', 'LoanAmount', 'Loan_Amount_Term', 'Credit_History', 'Property_Area', 'Loan_Status'), ('LP001002', 'Male', 'No', '0', 'Graduate', 'No', '5849', '0', '', '360', '1', 'Urban', 'Y'), ('LP001003', 'Male', 'Yes', '1', 'Graduate', 'No', '4583', '1508', '128', '360', '1', 'Rural', 'N'), ('LP001005', 'Male', 'Yes', '0', 'Graduate', 'Yes', '3000', '0', '66', '360', '1', 'Urban', 'Y'), ('LP001006', 'Male', 'Yes', '0', 'Not Graduate', 'No', '2583', '2358', '120', '360', '1', 'Urban', 'Y'), ('LP001008', 'Male', 'No', '0', 'Graduate', 'No', '6000', '0', '141', '360', '1', 'Urban', 'Y'), ('LP001011', 'Male', 'Yes', '2', 'Graduate', 'Yes', '5417', '4196', '267', '360', '1', 'Urban', 'Y'), ('LP001013', 'Male', 'Yes', '0', 'Not Graduate', 'No', '2333', '1516', '95', '360', '1', 'Urban', 'Y'), ('LP001014', 'Male', 'Yes', '3+', 'Graduate', 'No', '3036', '2504', '158', '360', '0', 'Semiurban', 'N'), ('LP001018', 'Male', 'Yes', '2', 'Graduate', 'No', '4006', '1526', '168', '360', '1', 'Urban', 'Y'), ('LP001020', 'Male', 'Yes', '1', 'Graduate', 'No', '12841', '10968', '349', '360', '1', 'Semiurban', 'N'), ('LP001024', 'Male', 'Yes', '2', 'Graduate', 'No', '3200', '700', '70', '360', '1', 'Urban', 'Y'), ('LP001027', 'Male', 'Yes', '2', 'Graduate', '', '2500', '1840', '109', '360', '1', 'Urban', 'Y'), ('LP001028', 'Male', 'Yes', '2', 'Graduate', 'No', '3073', '8106', '200', '360', '1', 'Urban', 'Y'), ('LP001029', 'Male', 'No', '0', 'Graduate', 'No', '1853', '2840', '114', '360', '1', 'Rural', 'N'), ('LP001030', 'Male', 'Yes', '2', 'Graduate', 'No', '1299', '1086', '17', '120', '1', 'Urban', 'Y'), ('LP001032', 'Male', 'No', '0', 'Graduate', 'No', '4950', '0', '125', '360', '1', 'Urban', 'Y'), ('LP001034', 'Male', 'No', '1', 'Not Graduate', 'No', '3596', '0', '100', '240', '', 'Urban', 'Y'), ('LP001036', 'Female', 'No', '0', 'Graduate', 'No', '3510', '0', '76', '360', '0', 'Urban', 'N'), ('LP001038', 'Male', 'Yes', '0', 'Not Graduate', 'No', '4887', '0', '133', '360', '1', 'Rural', 'N'), ('LP001041', 'Male', 'Yes', '0', 'Graduate', '', '2600', '3500', '115', '', '1', 'Urban', 'Y'), ('LP001043', 'Male', 'Yes', '0', 'Not Graduate', 'No', '7660', '0', '104', '360', '0', 'Urban', 'N'), ('LP001046', 'Male', 'Yes', '1', 'Graduate', 'No', '5955', '5625', '315', '360', '1', 'Urban', 'Y'), ('LP001047', 'Male', 'Yes', '0', 'Not Graduate', 'No', '2600', '1911', '116', '360', '0', 'Semiurban', 'N'), ('LP001050', '', 'Yes', '2', 'Not Graduate', 'No', '3365', '1917', '112', '360', '0', 'Rural', 'N'), ('LP001052', 'Male', 'Yes', '1', 'Graduate', '', '3717', '2925', '151', '360', '', 'Semiurban', 'N'), ('LP001066', 'Male', 'Yes', '0', 'Graduate', 'Yes', '9560', '0', '191', '360', '1', 'Semiurban', 'Y'), ('LP001068', 'Male', 'Yes', '0', 'Graduate', 'No', '2799', '2253', '122', '360', '1', 'Semiurban', 'Y'), ('LP001073', 'Male', 'Yes', '2', 'Not Graduate', 'No', '4226', '1040', '110', '360', '1', 'Urban', 'Y'), ('LP001086', 'Male', 'No', '0', 'Not Graduate', 'No', '1442', '0', '35', '360', '1', 'Urban', 'N'), ('LP001087', 'Female', 'No', '2', 'Graduate', '', '3750', '2083', '120', '360', '1', 'Semiurban', 'Y'), ('LP001091', 'Male', 'Yes', '1', 'Graduate', '', '4166', '3369', '201', '360', '', 'Urban', 'N'), ('LP001095', 'Male', 'No', '0', 'Graduate', 'No', '3167', '0', '74', '360', '1', 'Urban', 'N'), ('LP001097', 'Male', 'No', '1', 'Graduate', 'Yes', '4692', '0', '106', '360', '1', 'Rural', 'N'), ('LP001098', 'Male', 'Yes', '0', 'Graduate', 'No', '3500', '1667', '114', '360', '1', 'Semiurban', 'Y'), ('LP001100', 'Male', 'No', '3+', 'Graduate', 'No', '12500', '3000', '320', '360', '1', 'Rural', 'N'), ('LP001106', 'Male', 'Yes', '0', 'Graduate', 'No', '2275', '2067', '', '360', '1', 'Urban', 'Y'), ('LP001109', 'Male', 'Yes', '0', 'Graduate', 'No', '1828', '1330', '100', '', '0', 'Urban', 'N'), ('LP001112', 'Female', 'Yes', '0', 'Graduate', 'No', '3667', '1459', '144', '360', '1', 'Semiurban', 'Y'), ('LP001114', 'Male', 'No', '0', 'Graduate', 'No', '4166', '7210', '184', '360', '1', 'Urban', 'Y'), ('LP001116', 'Male', 'No', '0', 'Not Graduate', 'No', '3748', '1668', '110', '360', '1', 'Semiurban', 'Y'), ('LP001119', 'Male', 'No', '0', 'Graduate', 'No', '3600', '0', '80', '360', '1', 'Urban', 'N'), ('LP001120', 'Male', 'No', '0', 'Graduate', 'No', '1800', '1213', '47', '360', '1', 'Urban', 'Y'), ('LP001123', 'Male', 'Yes', '0', 'Graduate', 'No', '2400', '0', '75', '360', '', 'Urban', 'Y'), ('LP001131', 'Male', 'Yes', '0', 'Graduate', 'No', '3941', '2336', '134', '360', '1', 'Semiurban', 'Y'), ('LP001136', 'Male', 'Yes', '0', 'Not Graduate', 'Yes', '4695', '0', '96', '', '1', 'Urban', 'Y'), ('LP001137', 'Female', 'No', '0', 'Graduate', 'No', '3410', '0', '88', '', '1', 'Urban', 'Y'), ('LP001138', 'Male', 'Yes', '1', 'Graduate', 'No', '5649', '0', '44', '360', '1', 'Urban', 'Y'), ('LP001144', 'Male', 'Yes', '0', 'Graduate', 'No', '5821', '0', '144', '360', '1', 'Urban', 'Y'), ('LP001146', 'Female', 'Yes', '0', 'Graduate', 'No', '2645', '3440', '120', '360', '0', 'Urban', 'N'), ('LP001151', 'Female', 'No', '0', 'Graduate', 'No', '4000', '2275', '144', '360', '1', 'Semiurban', 'Y'), ('LP001155', 'Female', 'Yes', '0', 'Not Graduate', 'No', '1928', '1644', '100', '360', '1', 'Semiurban', 'Y'), ('LP001157', 'Female', 'No', '0', 'Graduate', 'No', '3086', '0', '120', '360', '1', 'Semiurban', 'Y'), ('LP001164', 'Female', 'No', '0', 'Graduate', 'No', '4230', '0', '112', '360', '1', 'Semiurban', 'N'), ('LP001179', 'Male', 'Yes', '2', 'Graduate', 'No', '4616', '0', '134', '360', '1', 'Urban', 'N'), ('LP001186', 'Female', 'Yes', '1', 'Graduate', 'Yes', '11500', '0', '286', '360', '0', 'Urban', 'N'), ('LP001194', 'Male', 'Yes', '2', 'Graduate', 'No', '2708', '1167', '97', '360', '1', 'Semiurban', 'Y'), ('LP001195', 'Male', 'Yes', '0', 'Graduate', 'No', '2132', '1591', '96', '360', '1', 'Semiurban', 'Y'), ('LP001197', 'Male', 'Yes', '0', 'Graduate', 'No', '3366', '2200', '135', '360', '1', 'Rural', 'N'), ('LP001198', 'Male', 'Yes', '1', 'Graduate', 'No', '8080', '2250', '180', '360', '1', 'Urban', 'Y'), ('LP001199', 'Male', 'Yes', '2', 'Not Graduate', 'No', '3357', '2859', '144', '360', '1', 'Urban', 'Y'), ('LP001205', 'Male', 'Yes', '0', 'Graduate', 'No', '2500', '3796', '120', '360', '1', 'Urban', 'Y'), ('LP001206', 'Male', 'Yes', '3+', 'Graduate', 'No', '3029', '0', '99', '360', '1', 'Urban', 'Y'), ('LP001207', 'Male', 'Yes', '0', 'Not Graduate', 'Yes', '2609', '3449', '165', '180', '0', 'Rural', 'N'), ('LP001213', 'Male', 'Yes', '1', 'Graduate', 'No', '4945', '0', '', '360', '0', 'Rural', 'N'), ('LP001222', 'Female', 'No', '0', 'Graduate', 'No', '4166', '0', '116', '360', '0', 'Semiurban', 'N'), ('LP001225', 'Male', 'Yes', '0', 'Graduate', 'No', '5726', '4595', '258', '360', '1', 'Semiurban', 'N'), ('LP001228', 'Male', 'No', '0', 'Not Graduate', 'No', '3200', '2254', '126', '180', '0', 'Urban', 'N'), ('LP001233', 'Male', 'Yes', '1', 'Graduate', 'No', '10750', '0', '312', '360', '1', 'Urban', 'Y'), ('LP001238', 'Male', 'Yes', '3+', 'Not Graduate', 'Yes', '7100', '0', '125', '60', '1', 'Urban', 'Y'), ('LP001241', 'Female', 'No', '0', 'Graduate', 'No', '4300', '0', '136', '360', '0', 'Semiurban', 'N'), ('LP001243', 'Male', 'Yes', '0', 'Graduate', 'No', '3208', '3066', '172', '360', '1', 'Urban', 'Y'), ('LP001245', 'Male', 'Yes', '2', 'Not Graduate', 'Yes', '1875', '1875', '97', '360', '1', 'Semiurban', 'Y'), ('LP001248', 'Male', 'No', '0', 'Graduate', 'No', '3500', '0', '81', '300', '1', 'Semiurban', 'Y'), ('LP001250', 'Male', 'Yes', '3+', 'Not Graduate', 'No', '4755', '0', '95', '', '0', 'Semiurban', 'N'), ('LP001253', 'Male', 'Yes', '3+', 'Graduate', 'Yes', '5266', '1774', '187', '360', '1', 'Semiurban', 'Y'), ('LP001255', 'Male', 'No', '0', 'Graduate', 'No', '3750', '0', '113', '480', '1', 'Urban', 'N'), ('LP001256', 'Male', 'No', '0', 'Graduate', 'No', '3750', '4750', '176', '360', '1', 'Urban', 'N'), ('LP001259', 'Male', 'Yes', '1', 'Graduate', 'Yes', '1000', '3022', '110', '360', '1', 'Urban', 'N'), ('LP001263', 'Male', 'Yes', '3+', 'Graduate', 'No', '3167', '4000', '180', '300', '0', 'Semiurban', 'N'), ('LP001264', 'Male', 'Yes', '3+', 'Not Graduate', 'Yes', '3333', '2166', '130', '360', '', 'Semiurban', 'Y'), ('LP001265', 'Female', 'No', '0', 'Graduate', 'No', '3846', '0', '111', '360', '1', 'Semiurban', 'Y'), ('LP001266', 'Male', 'Yes', '1', 'Graduate', 'Yes', '2395', '0', '', '360', '1', 'Semiurban', 'Y'), ('LP001267', 'Female', 'Yes', '2', 'Graduate', 'No', '1378', '1881', '167', '360', '1', 'Urban', 'N'), ('LP001273', 'Male', 'Yes', '0', 'Graduate', 'No', '6000', '2250', '265', '360', '', 'Semiurban', 'N'), ('LP001275', 'Male', 'Yes', '1', 'Graduate', 'No', '3988', '0', '50', '240', '1', 'Urban', 'Y'), ('LP001279', 'Male', 'No', '0', 'Graduate', 'No', '2366', '2531', '136', '360', '1', 'Semiurban', 'Y'), ('LP001280', 'Male', 'Yes', '2', 'Not Graduate', 'No', '3333', '2000', '99', '360', '', 'Semiurban', 'Y'), ('LP001282', 'Male', 'Yes', '0', 'Graduate', 'No', '2500', '2118', '104', '360', '1', 'Semiurban', 'Y'), ('LP001289', 'Male', 'No', '0', 'Graduate', 'No', '8566', '0', '210', '360', '1', 'Urban', 'Y'), ('LP001310', 'Male', 'Yes', '0', 'Graduate', 'No', '5695', '4167', '175', '360', '1', 'Semiurban', 'Y'), ('LP001316', 'Male', 'Yes', '0', 'Graduate', 'No', '2958', '2900', '131', '360', '1', 'Semiurban', 'Y'), ('LP001318', 'Male', 'Yes', '2', 'Graduate', 'No', '6250', '5654', '188', '180', '1', 'Semiurban', 'Y'), ('LP001319', 'Male', 'Yes', '2', 'Not Graduate', 'No', '3273', '1820', '81', '360', '1', 'Urban', 'Y'), ('LP001322', 'Male', 'No', '0', 'Graduate', 'No', '4133', '0', '122', '360', '1', 'Semiurban', 'Y'), ('LP001325', 'Male', 'No', '0', 'Not Graduate', 'No', '3620', '0', '25', '120', '1', 'Semiurban', 'Y'), ('LP001326', 'Male', 'No', '0', 'Graduate', '', '6782', '0', '', '360', '', 'Urban', 'N'), ('LP001327', 'Female', 'Yes', '0', 'Graduate', 'No', '2484', '2302', '137', '360', '1', 'Semiurban', 'Y'), ('LP001333', 'Male', 'Yes', '0', 'Graduate', 'No', '1977', '997', '50', '360', '1', 'Semiurban', 'Y'), ('LP001334', 'Male', 'Yes', '0', 'Not Graduate', 'No', '4188', '0', '115', '180', '1', 'Semiurban', 'Y'), ('LP001343', 'Male', 'Yes', '0', 'Graduate', 'No', '1759', '3541', '131', '360', '1', 'Semiurban', 'Y'), ('LP001345', 'Male', 'Yes', '2', 'Not Graduate', 'No', '4288', '3263', '133', '180', '1', 'Urban', 'Y'), ('LP001349', 'Male', 'No', '0', 'Graduate', 'No', '4843', '3806', '151', '360', '1', 'Semiurban', 'Y'), ('LP001350', 'Male', 'Yes', '', 'Graduate', 'No', '13650', '0', '', '360', '1', 'Urban', 'Y'), ('LP001356', 'Male', 'Yes', '0', 'Graduate', 'No', '4652', '3583', '', '360', '1', 'Semiurban', 'Y'), ('LP001357', 'Male', '', '', 'Graduate', 'No', '3816', '754', '160', '360', '1', 'Urban', 'Y'), ('LP001367', 'Male', 'Yes', '1', 'Graduate', 'No', '3052', '1030', '100', '360', '1', 'Urban', 'Y'), ('LP001369', 'Male', 'Yes', '2', 'Graduate', 'No', '11417', '1126', '225', '360', '1', 'Urban', 'Y'), ('LP001370', 'Male', 'No', '0', 'Not Graduate', '', '7333', '0', '120', '360', '1', 'Rural', 'N'), ('LP001379', 'Male', 'Yes', '2', 'Graduate', 'No', '3800', '3600', '216', '360', '0', 'Urban', 'N'), ('LP001384', 'Male', 'Yes', '3+', 'Not Graduate', 'No', '2071', '754', '94', '480', '1', 'Semiurban', 'Y'), ('LP001385', 'Male', 'No', '0', 'Graduate', 'No', '5316', '0', '136', '360', '1', 'Urban', 'Y'), ('LP001387', 'Female', 'Yes', '0', 'Graduate', '', '2929', '2333', '139', '360', '1', 'Semiurban', 'Y'), ('LP001391', 'Male', 'Yes', '0', 'Not Graduate', 'No', '3572', '4114', '152', '', '0', 'Rural', 'N'), ('LP001392', 'Female', 'No', '1', 'Graduate', 'Yes', '7451', '0', '', '360', '1', 'Semiurban', 'Y'), ('LP001398', 'Male', 'No', '0', 'Graduate', '', '5050', '0', '118', '360', '1', 'Semiurban', 'Y'), ('LP001401', 'Male', 'Yes', '1', 'Graduate', 'No', '14583', '0', '185', '180', '1', 'Rural', 'Y'), ('LP001404', 'Female', 'Yes', '0', 'Graduate', 'No', '3167', '2283', '154', '360', '1', 'Semiurban', 'Y'), ('LP001405', 'Male', 'Yes', '1', 'Graduate', 'No', '2214', '1398', '85', '360', '', 'Urban', 'Y'), ('LP001421', 'Male', 'Yes', '0', 'Graduate', 'No', '5568', '2142', '175', '360', '1', 'Rural', 'N'), ('LP001422', 'Female', 'No', '0', 'Graduate', 'No', '10408', '0', '259', '360', '1', 'Urban', 'Y'), ('LP001426', 'Male', 'Yes', '', 'Graduate', 'No', '5667', '2667', '180', '360', '1', 'Rural', 'Y'), ('LP001430', 'Female', 'No', '0', 'Graduate', 'No', '4166', '0', '44', '360', '1', 'Semiurban', 'Y'), ('LP001431', 'Female', 'No', '0', 'Graduate', 'No', '2137', '8980', '137', '360', '0', 'Semiurban', 'Y'), ('LP001432', 'Male', 'Yes', '2', 'Graduate', 'No', '2957', '0', '81', '360', '1', 'Semiurban', 'Y'), ('LP001439', 'Male', 'Yes', '0', 'Not Graduate', 'No', '4300', '2014', '194', '360', '1', 'Rural', 'Y'), ('LP001443', 'Female', 'No', '0', 'Graduate', 'No', '3692', '0', '93', '360', '', 'Rural', 'Y'), ('LP001448', '', 'Yes', '3+', 'Graduate', 'No', '23803', '0', '370', '360', '1', 'Rural', 'Y'), ('LP001449', 'Male', 'No', '0', 'Graduate', 'No', '3865', '1640', '', '360', '1', 'Rural', 'Y'), ('LP001451', 'Male', 'Yes', '1', 'Graduate', 'Yes', '10513', '3850', '160', '180', '0', 'Urban', 'N'), ('LP001465', 'Male', 'Yes', '0', 'Graduate', 'No', '6080', '2569', '182', '360', '', 'Rural', 'N'), ('LP001469', 'Male', 'No', '0', 'Graduate', 'Yes', '20166', '0', '650', '480', '', 'Urban', 'Y'), ('LP001473', 'Male', 'No', '0', 'Graduate', 'No', '2014', '1929', '74', '360', '1', 'Urban', 'Y'), ('LP001478', 'Male', 'No', '0', 'Graduate', 'No', '2718', '0', '70', '360', '1', 'Semiurban', 'Y'), ('LP001482', 'Male', 'Yes', '0', 'Graduate', 'Yes', '3459', '0', '25', '120', '1', 'Semiurban', 'Y'), ('LP001487', 'Male', 'No', '0', 'Graduate', 'No', '4895', '0', '102', '360', '1', 'Semiurban', 'Y'), ('LP001488', 'Male', 'Yes', '3+', 'Graduate', 'No', '4000', '7750', '290', '360', '1', 'Semiurban', 'N'), ('LP001489', 'Female', 'Yes', '0', 'Graduate', 'No', '4583', '0', '84', '360', '1', 'Rural', 'N'), ('LP001491', 'Male', 'Yes', '2', 'Graduate', 'Yes', '3316', '3500', '88', '360', '1', 'Urban', 'Y'), ('LP001492', 'Male', 'No', '0', 'Graduate', 'No', '14999', '0', '242', '360', '0', 'Semiurban', 'N'), ('LP001493', 'Male', 'Yes', '2', 'Not Graduate', 'No', '4200', '1430', '129', '360', '1', 'Rural', 'N'), ('LP001497', 'Male', 'Yes', '2', 'Graduate', 'No', '5042', '2083', '185', '360', '1', 'Rural', 'N'), ('LP001498', 'Male', 'No', '0', 'Graduate', 'No', '5417', '0', '168', '360', '1', 'Urban', 'Y'), ('LP001504', 'Male', 'No', '0', 'Graduate', 'Yes', '6950', '0', '175', '180', '1', 'Semiurban', 'Y'), ('LP001507', 'Male', 'Yes', '0', 'Graduate', 'No', '2698', '2034', '122', '360', '1', 'Semiurban', 'Y'), ('LP001508', 'Male', 'Yes', '2', 'Graduate', 'No', '11757', '0', '187', '180', '1', 'Urban', 'Y'), ('LP001514', 'Female', 'Yes', '0', 'Graduate', 'No', '2330', '4486', '100', '360', '1', 'Semiurban', 'Y'), ('LP001516', 'Female', 'Yes', '2', 'Graduate', 'No', '14866', '0', '70', '360', '1', 'Urban', 'Y'), ('LP001518', 'Male', 'Yes', '1', 'Graduate', 'No', '1538', '1425', '30', '360', '1', 'Urban', 'Y'), ('LP001519', 'Female', 'No', '0', 'Graduate', 'No', '10000', '1666', '225', '360', '1', 'Rural', 'N'), ('LP001520', 'Male', 'Yes', '0', 'Graduate', 'No', '4860', '830', '125', '360', '1', 'Semiurban', 'Y'), ('LP001528', 'Male', 'No', '0', 'Graduate', 'No', '6277', '0', '118', '360', '0', 'Rural', 'N'), ('LP001529', 'Male', 'Yes', '0', 'Graduate', 'Yes', '2577', '3750', '152', '360', '1', 'Rural', 'Y'), ('LP001531', 'Male', 'No', '0', 'Graduate', 'No', '9166', '0', '244', '360', '1', 'Urban', 'N'), ('LP001532', 'Male', 'Yes', '2', 'Not Graduate', 'No', '2281', '0', '113', '360', '1', 'Rural', 'N'), ('LP001535', 'Male', 'No', '0', 'Graduate', 'No', '3254', '0', '50', '360', '1', 'Urban', 'Y'), ('LP001536', 'Male', 'Yes', '3+', 'Graduate', 'No', '39999', '0', '600', '180', '0', 'Semiurban', 'Y'), ('LP001541', 'Male', 'Yes', '1', 'Graduate', 'No', '6000', '0', '160', '360', '', 'Rural', 'Y'), ('LP001543', 'Male', 'Yes', '1', 'Graduate', 'No', '9538', '0', '187', '360', '1', 'Urban', 'Y'), ('LP001546', 'Male', 'No', '0', 'Graduate', '', '2980', '2083', '120', '360', '1', 'Rural', 'Y'), ('LP001552', 'Male', 'Yes', '0', 'Graduate', 'No', '4583', '5625', '255', '360', '1', 'Semiurban', 'Y'), ('LP001560', 'Male', 'Yes', '0', 'Not Graduate', 'No', '1863', '1041', '98', '360', '1', 'Semiurban', 'Y'), ('LP001562', 'Male', 'Yes', '0', 'Graduate', 'No', '7933', '0', '275', '360', '1', 'Urban', 'N'), ('LP001565', 'Male', 'Yes', '1', 'Graduate', 'No', '3089', '1280', '121', '360', '0', 'Semiurban', 'N'), ('LP001570', 'Male', 'Yes', '2', 'Graduate', 'No', '4167', '1447', '158', '360', '1', 'Rural', 'Y'), ('LP001572', 'Male', 'Yes', '0', 'Graduate', 'No', '9323', '0', '75', '180', '1', 'Urban', 'Y'), ('LP001574', 'Male', 'Yes', '0', 'Graduate', 'No', '3707', '3166', '182', '', '1', 'Rural', 'Y'), ('LP001577', 'Female', 'Yes', '0', 'Graduate', 'No', '4583', '0', '112', '360', '1', 'Rural', 'N'), ('LP001578', 'Male', 'Yes', '0', 'Graduate', 'No', '2439', '3333', '129', '360', '1', 'Rural', 'Y'), ('LP001579', 'Male', 'No', '0', 'Graduate', 'No', '2237', '0', '63', '480', '0', 'Semiurban', 'N'), ('LP001580', 'Male', 'Yes', '2', 'Graduate', 'No', '8000', '0', '200', '360', '1', 'Semiurban', 'Y'), ('LP001581', 'Male', 'Yes', '0', 'Not Graduate', '', '1820', '1769', '95', '360', '1', 'Rural', 'Y'), ('LP001585', '', 'Yes', '3+', 'Graduate', 'No', '51763', '0', '700', '300', '1', 'Urban', 'Y'), ('LP001586', 'Male', 'Yes', '3+', 'Not Graduate', 'No', '3522', '0', '81', '180', '1', 'Rural', 'N'), ('LP001594', 'Male', 'Yes', '0', 'Graduate', 'No', '5708', '5625', '187', '360', '1', 'Semiurban', 'Y'), ('LP001603', 'Male', 'Yes', '0', 'Not Graduate', 'Yes', '4344', '736', '87', '360', '1', 'Semiurban', 'N'), ('LP001606', 'Male', 'Yes', '0', 'Graduate', 'No', '3497', '1964', '116', '360', '1', 'Rural', 'Y'), ('LP001608', 'Male', 'Yes', '2', 'Graduate', 'No', '2045', '1619', '101', '360', '1', 'Rural', 'Y'), ('LP001610', 'Male', 'Yes', '3+', 'Graduate', 'No', '5516', '11300', '495', '360', '0', 'Semiurban', 'N'), ('LP001616', 'Male', 'Yes', '1', 'Graduate', 'No', '3750', '0', '116', '360', '1', 'Semiurban', 'Y'), ('LP001630', 'Male', 'No', '0', 'Not Graduate', 'No', '2333', '1451', '102', '480', '0', 'Urban', 'N'), ('LP001633', 'Male', 'Yes', '1', 'Graduate', 'No', '6400', '7250', '180', '360', '0', 'Urban', 'N'), ('LP001634', 'Male', 'No', '0', 'Graduate', 'No', '1916', '5063', '67', '360', '', 'Rural', 'N'), ('LP001636', 'Male', 'Yes', '0', 'Graduate', 'No', '4600', '0', '73', '180', '1', 'Semiurban', 'Y'), ('LP001637', 'Male', 'Yes', '1', 'Graduate', 'No', '33846', '0', '260', '360', '1', 'Semiurban', 'N'), ('LP001639', 'Female', 'Yes', '0', 'Graduate', 'No', '3625', '0', '108', '360', '1', 'Semiurban', 'Y'), ('LP001640', 'Male', 'Yes', '0', 'Graduate', 'Yes', '39147', '4750', '120', '360', '1', 'Semiurban', 'Y'), ('LP001641', 'Male', 'Yes', '1', 'Graduate', 'Yes', '2178', '0', '66', '300', '0', 'Rural', 'N'), ('LP001643', 'Male', 'Yes', '0', 'Graduate', 'No', '2383', '2138', '58', '360', '', 'Rural', 'Y'), ('LP001644', '', 'Yes', '0', 'Graduate', 'Yes', '674', '5296', '168', '360', '1', 'Rural', 'Y'), ('LP001647', 'Male', 'Yes', '0', 'Graduate', 'No', '9328', '0', '188', '180', '1', 'Rural', 'Y'), ('LP001653', 'Male', 'No', '0', 'Not Graduate', 'No', '4885', '0', '48', '360', '1', 'Rural', 'Y'), ('LP001656', 'Male', 'No', '0', 'Graduate', 'No', '12000', '0', '164', '360', '1', 'Semiurban', 'N'), ('LP001657', 'Male', 'Yes', '0', 'Not Graduate', 'No', '6033', '0', '160', '360', '1', 'Urban', 'N'), ('LP001658', 'Male', 'No', '0', 'Graduate', 'No', '3858', '0', '76', '360', '1', 'Semiurban', 'Y'), ('LP001664', 'Male', 'No', '0', 'Graduate', 'No', '4191', '0', '120', '360', '1', 'Rural', 'Y'), ('LP001665', 'Male', 'Yes', '1', 'Graduate', 'No', '3125', '2583', '170', '360', '1', 'Semiurban', 'N'), ('LP001666', 'Male', 'No', '0', 'Graduate', 'No', '8333', '3750', '187', '360', '1', 'Rural', 'Y'), ('LP001669', 'Female', 'No', '0', 'Not Graduate', 'No', '1907', '2365', '120', '', '1', 'Urban', 'Y'), ('LP001671', 'Female', 'Yes', '0', 'Graduate', 'No', '3416', '2816', '113', '360', '', 'Semiurban', 'Y'), ('LP001673', 'Male', 'No', '0', 'Graduate', 'Yes', '11000', '0', '83', '360', '1', 'Urban', 'N'), ('LP001674', 'Male', 'Yes', '1', 'Not Graduate', 'No', '2600', '2500', '90', '360', '1', 'Semiurban', 'Y'), ('LP001677', 'Male', 'No', '2', 'Graduate', 'No', '4923', '0', '166', '360', '0', 'Semiurban', 'Y'), ('LP001682', 'Male', 'Yes', '3+', 'Not Graduate', 'No', '3992', '0', '', '180', '1', 'Urban', 'N'), ('LP001688', 'Male', 'Yes', '1', 'Not Graduate', 'No', '3500', '1083', '135', '360', '1', 'Urban', 'Y'), ('LP001691', 'Male', 'Yes', '2', 'Not Graduate', 'No', '3917', '0', '124', '360', '1', 'Semiurban', 'Y'), ('LP001692', 'Female', 'No', '0', 'Not Graduate', 'No', '4408', '0', '120', '360', '1', 'Semiurban', 'Y'), ('LP001693', 'Female', 'No', '0', 'Graduate', 'No', '3244', '0', '80', '360', '1', 'Urban', 'Y'), ('LP001698', 'Male', 'No', '0', 'Not Graduate', 'No', '3975', '2531', '55', '360', '1', 'Rural', 'Y'), ('LP001699', 'Male', 'No', '0', 'Graduate', 'No', '2479', '0', '59', '360', '1', 'Urban', 'Y'), ('LP001702', 'Male', 'No', '0', 'Graduate', 'No', '3418', '0', '127', '360', '1', 'Semiurban', 'N'), ('LP001708', 'Female', 'No', '0', 'Graduate', 'No', '10000', '0', '214', '360', '1', 'Semiurban', 'N'), ('LP001711', 'Male', 'Yes', '3+', 'Graduate', 'No', '3430', '1250', '128', '360', '0', 'Semiurban', 'N'), ('LP001713', 'Male', 'Yes', '1', 'Graduate', 'Yes', '7787', '0', '240', '360', '1', 'Urban', 'Y'), ('LP001715', 'Male', 'Yes', '3+', 'Not Graduate', 'Yes', '5703', '0', '130', '360', '1', 'Rural', 'Y'), ('LP001716', 'Male', 'Yes', '0', 'Graduate', 'No', '3173', '3021', '137', '360', '1', 'Urban', 'Y'), ('LP001720', 'Male', 'Yes', '3+', 'Not Graduate', 'No', '3850', '983', '100', '360', '1', 'Semiurban', 'Y'), ('LP001722', 'Male', 'Yes', '0', 'Graduate', 'No', '150', '1800', '135', '360', '1', 'Rural', 'N'), ('LP001726', 'Male', 'Yes', '0', 'Graduate', 'No', '3727', '1775', '131', '360', '1', 'Semiurban', 'Y'), ('LP001732', 'Male', 'Yes', '2', 'Graduate', '', '5000', '0', '72', '360', '0', 'Semiurban', 'N'), ('LP001734', 'Female', 'Yes', '2', 'Graduate', 'No', '4283', '2383', '127', '360', '', 'Semiurban', 'Y'), ('LP001736', 'Male', 'Yes', '0', 'Graduate', 'No', '2221', '0', '60', '360', '0', 'Urban', 'N'), ('LP001743', 'Male', 'Yes', '2', 'Graduate', 'No', '4009', '1717', '116', '360', '1', 'Semiurban', 'Y'), ('LP001744', 'Male', 'No', '0', 'Graduate', 'No', '2971', '2791', '144', '360', '1', 'Semiurban', 'Y'), ('LP001749', 'Male', 'Yes', '0', 'Graduate', 'No', '7578', '1010', '175', '', '1', 'Semiurban', 'Y'), ('LP001750', 'Male', 'Yes', '0', 'Graduate', 'No', '6250', '0', '128', '360', '1', 'Semiurban', 'Y'), ('LP001751', 'Male', 'Yes', '0', 'Graduate', 'No', '3250', '0', '170', '360', '1', 'Rural', 'N'), ('LP001754', 'Male', 'Yes', '', 'Not Graduate', 'Yes', '4735', '0', '138', '360', '1', 'Urban', 'N'), ('LP001758', 'Male', 'Yes', '2', 'Graduate', 'No', '6250', '1695', '210', '360', '1', 'Semiurban', 'Y'), ('LP001760', 'Male', '', '', 'Graduate', 'No', '4758', '0', '158', '480', '1', 'Semiurban', 'Y'), ('LP001761', 'Male', 'No', '0', 'Graduate', 'Yes', '6400', '0', '200', '360', '1', 'Rural', 'Y'), ('LP001765', 'Male', 'Yes', '1', 'Graduate', 'No', '2491', '2054', '104', '360', '1', 'Semiurban', 'Y'), ('LP001768', 'Male', 'Yes', '0', 'Graduate', '', '3716', '0', '42', '180', '1', 'Rural', 'Y'), ('LP001770', 'Male', 'No', '0', 'Not Graduate', 'No', '3189', '2598', '120', '', '1', 'Rural', 'Y'), ('LP001776', 'Female', 'No', '0', 'Graduate', 'No', '8333', '0', '280', '360', '1', 'Semiurban', 'Y'), ('LP001778', 'Male', 'Yes', '1', 'Graduate', 'No', '3155', '1779', '140', '360', '1', 'Semiurban', 'Y'), ('LP001784', 'Male', 'Yes', '1', 'Graduate', 'No', '5500', '1260', '170', '360', '1', 'Rural', 'Y'), ('LP001786', 'Male', 'Yes', '0', 'Graduate', '', '5746', '0', '255', '360', '', 'Urban', 'N'), ('LP001788', 'Female', 'No', '0', 'Graduate', 'Yes', '3463', '0', '122', '360', '', 'Urban', 'Y'), ('LP001790', 'Female', 'No', '1', 'Graduate', 'No', '3812', '0', '112', '360', '1', 'Rural', 'Y'), ('LP001792', 'Male', 'Yes', '1', 'Graduate', 'No', '3315', '0', '96', '360', '1', 'Semiurban', 'Y'), ('LP001798', 'Male', 'Yes', '2', 'Graduate', 'No', '5819', '5000', '120', '360', '1', 'Rural', 'Y'), ('LP001800', 'Male', 'Yes', '1', 'Not Graduate', 'No', '2510', '1983', '140', '180', '1', 'Urban', 'N'), ('LP001806', 'Male', 'No', '0', 'Graduate', 'No', '2965', '5701', '155', '60', '1', 'Urban', 'Y'), ('LP001807', 'Male', 'Yes', '2', 'Graduate', 'Yes', '6250', '1300', '108', '360', '1', 'Rural', 'Y'), ('LP001811', 'Male', 'Yes', '0', 'Not Graduate', 'No', '3406', '4417', '123', '360', '1', 'Semiurban', 'Y'), ('LP001813', 'Male', 'No', '0', 'Graduate', 'Yes', '6050', '4333', '120', '180', '1', 'Urban', 'N'), ('LP001814', 'Male', 'Yes', '2', 'Graduate', 'No', '9703', '0', '112', '360', '1', 'Urban', 'Y'), ('LP001819', 'Male', 'Yes', '1', 'Not Graduate', 'No', '6608', '0', '137', '180', '1', 'Urban', 'Y'), ('LP001824', 'Male', 'Yes', '1', 'Graduate', 'No', '2882', '1843', '123', '480', '1', 'Semiurban', 'Y'), ('LP001825', 'Male', 'Yes', '0', 'Graduate', 'No', '1809', '1868', '90', '360', '1', 'Urban', 'Y'), ('LP001835', 'Male', 'Yes', '0', 'Not Graduate', 'No', '1668', '3890', '201', '360', '0', 'Semiurban', 'N'), ('LP001836', 'Female', 'No', '2', 'Graduate', 'No', '3427', '0', '138', '360', '1', 'Urban', 'N'), ('LP001841', 'Male', 'No', '0', 'Not Graduate', 'Yes', '2583', '2167', '104', '360', '1', 'Rural', 'Y'), ('LP001843', 'Male', 'Yes', '1', 'Not Graduate', 'No', '2661', '7101', '279', '180', '1', 'Semiurban', 'Y'), ('LP001844', 'Male', 'No', '0', 'Graduate', 'Yes', '16250', '0', '192', '360', '0', 'Urban', 'N'), ('LP001846', 'Female', 'No', '3+', 'Graduate', 'No', '3083', '0', '255', '360', '1', 'Rural', 'Y'), ('LP001849', 'Male', 'No', '0', 'Not Graduate', 'No', '6045', '0', '115', '360', '0', 'Rural', 'N'), ('LP001854', 'Male', 'Yes', '3+', 'Graduate', 'No', '5250', '0', '94', '360', '1', 'Urban', 'N'), ('LP001859', 'Male', 'Yes', '0', 'Graduate', 'No', '14683', '2100', '304', '360', '1', 'Rural', 'N'), ('LP001864', 'Male', 'Yes', '3+', 'Not Graduate', 'No', '4931', '0', '128', '360', '', 'Semiurban', 'N'), ('LP001865', 'Male', 'Yes', '1', 'Graduate', 'No', '6083', '4250', '330', '360', '', 'Urban', 'Y'), ('LP001868', 'Male', 'No', '0', 'Graduate', 'No', '2060', '2209', '134', '360', '1', 'Semiurban', 'Y'), ('LP001870', 'Female', 'No', '1', 'Graduate', 'No', '3481', '0', '155', '36', '1', 'Semiurban', 'N'), ('LP001871', 'Female', 'No', '0', 'Graduate', 'No', '7200', '0', '120', '360', '1', 'Rural', 'Y'), ('LP001872', 'Male', 'No', '0', 'Graduate', 'Yes', '5166', '0', '128', '360', '1', 'Semiurban', 'Y'), ('LP001875', 'Male', 'No', '0', 'Graduate', 'No', '4095', '3447', '151', '360', '1', 'Rural', 'Y'), ('LP001877', 'Male', 'Yes', '2', 'Graduate', 'No', '4708', '1387', '150', '360', '1', 'Semiurban', 'Y'), ('LP001882', 'Male', 'Yes', '3+', 'Graduate', 'No', '4333', '1811', '160', '360', '0', 'Urban', 'Y'), ('LP001883', 'Female', 'No', '0', 'Graduate', '', '3418', '0', '135', '360', '1', 'Rural', 'N'), ('LP001884', 'Female', 'No', '1', 'Graduate', 'No', '2876', '1560', '90', '360', '1', 'Urban', 'Y'), ('LP001888', 'Female', 'No', '0', 'Graduate', 'No', '3237', '0', '30', '360', '1', 'Urban', 'Y'), ('LP001891', 'Male', 'Yes', '0', 'Graduate', 'No', '11146', '0', '136', '360', '1', 'Urban', 'Y'), ('LP001892', 'Male', 'No', '0', 'Graduate', 'No', '2833', '1857', '126', '360', '1', 'Rural', 'Y'), ('LP001894', 'Male', 'Yes', '0', 'Graduate', 'No', '2620', '2223', '150', '360', '1', 'Semiurban', 'Y'), ('LP001896', 'Male', 'Yes', '2', 'Graduate', 'No', '3900', '0', '90', '360', '1', 'Semiurban', 'Y'), ('LP001900', 'Male', 'Yes', '1', 'Graduate', 'No', '2750', '1842', '115', '360', '1', 'Semiurban', 'Y'), ('LP001903', 'Male', 'Yes', '0', 'Graduate', 'No', '3993', '3274', '207', '360', '1', 'Semiurban', 'Y'), ('LP001904', 'Male', 'Yes', '0', 'Graduate', 'No', '3103', '1300', '80', '360', '1', 'Urban', 'Y'), ('LP001907', 'Male', 'Yes', '0', 'Graduate', 'No', '14583', '0', '436', '360', '1', 'Semiurban', 'Y'), ('LP001908', 'Female', 'Yes', '0', 'Not Graduate', 'No', '4100', '0', '124', '360', '', 'Rural', 'Y'), ('LP001910', 'Male', 'No', '1', 'Not Graduate', 'Yes', '4053', '2426', '158', '360', '0', 'Urban', 'N'), ('LP001914', 'Male', 'Yes', '0', 'Graduate', 'No', '3927', '800', '112', '360', '1', 'Semiurban', 'Y'), ('LP001915', 'Male', 'Yes', '2', 'Graduate', 'No', '2301', '985.7999878', '78', '180', '1', 'Urban', 'Y'), ('LP001917', 'Female', 'No', '0', 'Graduate', 'No', '1811', '1666', '54', '360', '1', 'Urban', 'Y'), ('LP001922', 'Male', 'Yes', '0', 'Graduate', 'No', '20667', '0', '', '360', '1', 'Rural', 'N'), ('LP001924', 'Male', 'No', '0', 'Graduate', 'No', '3158', '3053', '89', '360', '1', 'Rural', 'Y'), ('LP001925', 'Female', 'No', '0', 'Graduate', 'Yes', '2600', '1717', '99', '300', '1', 'Semiurban', 'N'), ('LP001926', 'Male', 'Yes', '0', 'Graduate', 'No', '3704', '2000', '120', '360', '1', 'Rural', 'Y'), ('LP001931', 'Female', 'No', '0', 'Graduate', 'No', '4124', '0', '115', '360', '1', 'Semiurban', 'Y'), ('LP001935', 'Male', 'No', '0', 'Graduate', 'No', '9508', '0', '187', '360', '1', 'Rural', 'Y'), ('LP001936', 'Male', 'Yes', '0', 'Graduate', 'No', '3075', '2416', '139', '360', '1', 'Rural', 'Y'), ('LP001938', 'Male', 'Yes', '2', 'Graduate', 'No', '4400', '0', '127', '360', '0', 'Semiurban', 'N'), ('LP001940', 'Male', 'Yes', '2', 'Graduate', 'No', '3153', '1560', '134', '360', '1', 'Urban', 'Y'), ('LP001945', 'Female', 'No', '', 'Graduate', 'No', '5417', '0', '143', '480', '0', 'Urban', 'N'), ('LP001947', 'Male', 'Yes', '0', 'Graduate', 'No', '2383', '3334', '172', '360', '1', 'Semiurban', 'Y'), ('LP001949', 'Male', 'Yes', '3+', 'Graduate', '', '4416', '1250', '110', '360', '1', 'Urban', 'Y'), ('LP001953', 'Male', 'Yes', '1', 'Graduate', 'No', '6875', '0', '200', '360', '1', 'Semiurban', 'Y'), ('LP001954', 'Female', 'Yes', '1', 'Graduate', 'No', '4666', '0', '135', '360', '1', 'Urban', 'Y'), ('LP001955', 'Female', 'No', '0', 'Graduate', 'No', '5000', '2541', '151', '480', '1', 'Rural', 'N'), ('LP001963', 'Male', 'Yes', '1', 'Graduate', 'No', '2014', '2925', '113', '360', '1', 'Urban', 'N'), ('LP001964', 'Male', 'Yes', '0', 'Not Graduate', 'No', '1800', '2934', '93', '360', '0', 'Urban', 'N'), ('LP001972', 'Male', 'Yes', '', 'Not Graduate', 'No', '2875', '1750', '105', '360', '1', 'Semiurban', 'Y'), ('LP001974', 'Female', 'No', '0', 'Graduate', 'No', '5000', '0', '132', '360', '1', 'Rural', 'Y'), ('LP001977', 'Male', 'Yes', '1', 'Graduate', 'No', '1625', '1803', '96', '360', '1', 'Urban', 'Y'), ('LP001978', 'Male', 'No', '0', 'Graduate', 'No', '4000', '2500', '140', '360', '1', 'Rural', 'Y'), ('LP001990', 'Male', 'No', '0', 'Not Graduate', 'No', '2000', '0', '', '360', '1', 'Urban', 'N'), ('LP001993', 'Female', 'No', '0', 'Graduate', 'No', '3762', '1666', '135', '360', '1', 'Rural', 'Y'), ('LP001994', 'Female', 'No', '0', 'Graduate', 'No', '2400', '1863', '104', '360', '0', 'Urban', 'N'), ('LP001996', 'Male', 'No', '0', 'Graduate', 'No', '20233', '0', '480', '360', '1', 'Rural', 'N'), ('LP001998', 'Male', 'Yes', '2', 'Not Graduate', 'No', '7667', '0', '185', '360', '', 'Rural', 'Y'), ('LP002002', 'Female', 'No', '0', 'Graduate', 'No', '2917', '0', '84', '360', '1', 'Semiurban', 'Y'), ('LP002004', 'Male', 'No', '0', 'Not Graduate', 'No', '2927', '2405', '111', '360', '1', 'Semiurban', 'Y'), ('LP002006', 'Female', 'No', '0', 'Graduate', 'No', '2507', '0', '56', '360', '1', 'Rural', 'Y'), ('LP002008', 'Male', 'Yes', '2', 'Graduate', 'Yes', '5746', '0', '144', '84', '', 'Rural', 'Y'), ('LP002024', '', 'Yes', '0', 'Graduate', 'No', '2473', '1843', '159', '360', '1', 'Rural', 'N'), ('LP002031', 'Male', 'Yes', '1', 'Not Graduate', 'No', '3399', '1640', '111', '180', '1', 'Urban', 'Y'), ('LP002035', 'Male', 'Yes', '2', 'Graduate', 'No', '3717', '0', '120', '360', '1', 'Semiurban', 'Y'), ('LP002036', 'Male', 'Yes', '0', 'Graduate', 'No', '2058', '2134', '88', '360', '', 'Urban', 'Y'), ('LP002043', 'Female', 'No', '1', 'Graduate', 'No', '3541', '0', '112', '360', '', 'Semiurban', 'Y'), ('LP002050', 'Male', 'Yes', '1', 'Graduate', 'Yes', '10000', '0', '155', '360', '1', 'Rural', 'N'), ('LP002051', 'Male', 'Yes', '0', 'Graduate', 'No', '2400', '2167', '115', '360', '1', 'Semiurban', 'Y'), ('LP002053', 'Male', 'Yes', '3+', 'Graduate', 'No', '4342', '189', '124', '360', '1', 'Semiurban', 'Y'), ('LP002054', 'Male', 'Yes', '2', 'Not Graduate', 'No', '3601', '1590', '', '360', '1', 'Rural', 'Y'), ('LP002055', 'Female', 'No', '0', 'Graduate', 'No', '3166', '2985', '132', '360', '', 'Rural', 'Y'), ('LP002065', 'Male', 'Yes', '3+', 'Graduate', 'No', '15000', '0', '300', '360', '1', 'Rural', 'Y'), ('LP002067', 'Male', 'Yes', '1', 'Graduate', 'Yes', '8666', '4983', '376', '360', '0', 'Rural', 'N'), ('LP002068', 'Male', 'No', '0', 'Graduate', 'No', '4917', '0', '130', '360', '0', 'Rural', 'Y'), ('LP002082', 'Male', 'Yes', '0', 'Graduate', 'Yes', '5818', '2160', '184', '360', '1', 'Semiurban', 'Y'), ('LP002086', 'Female', 'Yes', '0', 'Graduate', 'No', '4333', '2451', '110', '360', '1', 'Urban', 'N'), ('LP002087', 'Female', 'No', '0', 'Graduate', 'No', '2500', '0', '67', '360', '1', 'Urban', 'Y'), ('LP002097', 'Male', 'No', '1', 'Graduate', 'No', '4384', '1793', '117', '360', '1', 'Urban', 'Y'), ('LP002098', 'Male', 'No', '0', 'Graduate', 'No', '2935', '0', '98', '360', '1', 'Semiurban', 'Y'), ('LP002100', 'Male', 'No', '', 'Graduate', 'No', '2833', '0', '71', '360', '1', 'Urban', 'Y'), ('LP002101', 'Male', 'Yes', '0', 'Graduate', '', '63337', '0', '490', '180', '1', 'Urban', 'Y'), ('LP002103', '', 'Yes', '1', 'Graduate', 'Yes', '9833', '1833', '182', '180', '1', 'Urban', 'Y'), ('LP002106', 'Male', 'Yes', '', 'Graduate', 'Yes', '5503', '4490', '70', '', '1', 'Semiurban', 'Y'), ('LP002110', 'Male', 'Yes', '1', 'Graduate', '', '5250', '688', '160', '360', '1', 'Rural', 'Y'), ('LP002112', 'Male', 'Yes', '2', 'Graduate', 'Yes', '2500', '4600', '176', '360', '1', 'Rural', 'Y'), ('LP002113', 'Female', 'No', '3+', 'Not Graduate', 'No', '1830', '0', '', '360', '0', 'Urban', 'N'), ('LP002114', 'Female', 'No', '0', 'Graduate', 'No', '4160', '0', '71', '360', '1', 'Semiurban', 'Y'), ('LP002115', 'Male', 'Yes', '3+', 'Not Graduate', 'No', '2647', '1587', '173', '360', '1', 'Rural', 'N'), ('LP002116', 'Female', 'No', '0', 'Graduate', 'No', '2378', '0', '46', '360', '1', 'Rural', 'N'), ('LP002119', 'Male', 'Yes', '1', 'Not Graduate', 'No', '4554', '1229', '158', '360', '1', 'Urban', 'Y'), ('LP002126', 'Male', 'Yes', '3+', 'Not Graduate', 'No', '3173', '0', '74', '360', '1', 'Semiurban', 'Y'), ('LP002128', 'Male', 'Yes', '2', 'Graduate', '', '2583', '2330', '125', '360', '1', 'Rural', 'Y'), ('LP002129', 'Male', 'Yes', '0', 'Graduate', 'No', '2499', '2458', '160', '360', '1', 'Semiurban', 'Y'), ('LP002130', 'Male', 'Yes', '', 'Not Graduate', 'No', '3523', '3230', '152', '360', '0', 'Rural', 'N'), ('LP002131', 'Male', 'Yes', '2', 'Not Graduate', 'No', '3083', '2168', '126', '360', '1', 'Urban', 'Y'), ('LP002137', 'Male', 'Yes', '0', 'Graduate', 'No', '6333', '4583', '259', '360', '', 'Semiurban', 'Y'), ('LP002138', 'Male', 'Yes', '0', 'Graduate', 'No', '2625', '6250', '187', '360', '1', 'Rural', 'Y'), ('LP002139', 'Male', 'Yes', '0', 'Graduate', 'No', '9083', '0', '228', '360', '1', 'Semiurban', 'Y'), ('LP002140', 'Male', 'No', '0', 'Graduate', 'No', '8750', '4167', '308', '360', '1', 'Rural', 'N'), ('LP002141', 'Male', 'Yes', '3+', 'Graduate', 'No', '2666', '2083', '95', '360', '1', 'Rural', 'Y'), ('LP002142', 'Female', 'Yes', '0', 'Graduate', 'Yes', '5500', '0', '105', '360', '0', 'Rural', 'N'), ('LP002143', 'Female', 'Yes', '0', 'Graduate', 'No', '2423', '505', '130', '360', '1', 'Semiurban', 'Y'), ('LP002144', 'Female', 'No', '', 'Graduate', 'No', '3813', '0', '116', '180', '1', 'Urban', 'Y'), ('LP002149', 'Male', 'Yes', '2', 'Graduate', 'No', '8333', '3167', '165', '360', '1', 'Rural', 'Y'), ('LP002151', 'Male', 'Yes', '1', 'Graduate', 'No', '3875', '0', '67', '360', '1', 'Urban', 'N'), ('LP002158', 'Male', 'Yes', '0', 'Not Graduate', 'No', '3000', '1666', '100', '480', '0', 'Urban', 'N'), ('LP002160', 'Male', 'Yes', '3+', 'Graduate', 'No', '5167', '3167', '200', '360', '1', 'Semiurban', 'Y'), ('LP002161', 'Female', 'No', '1', 'Graduate', 'No', '4723', '0', '81', '360', '1', 'Semiurban', 'N'), ('LP002170', 'Male', 'Yes', '2', 'Graduate', 'No', '5000', '3667', '236', '360', '1', 'Semiurban', 'Y'), ('LP002175', 'Male', 'Yes', '0', 'Graduate', 'No', '4750', '2333', '130', '360', '1', 'Urban', 'Y'), ('LP002178', 'Male', 'Yes', '0', 'Graduate', 'No', '3013', '3033', '95', '300', '', 'Urban', 'Y'), ('LP002180', 'Male', 'No', '0', 'Graduate', 'Yes', '6822', '0', '141', '360', '1', 'Rural', 'Y'), ('LP002181', 'Male', 'No', '0', 'Not Graduate', 'No', '6216', '0', '133', '360', '1', 'Rural', 'N'), ('LP002187', 'Male', 'No', '0', 'Graduate', 'No', '2500', '0', '96', '480', '1', 'Semiurban', 'N'), ('LP002188', 'Male', 'No', '0', 'Graduate', 'No', '5124', '0', '124', '', '0', 'Rural', 'N'), ('LP002190', 'Male', 'Yes', '1', 'Graduate', 'No', '6325', '0', '175', '360', '1', 'Semiurban', 'Y'), ('LP002191', 'Male', 'Yes', '0', 'Graduate', 'No', '19730', '5266', '570', '360', '1', 'Rural', 'N'), ('LP002194', 'Female', 'No', '0', 'Graduate', 'Yes', '15759', '0', '55', '360', '1', 'Semiurban', 'Y'), ('LP002197', 'Male', 'Yes', '2', 'Graduate', 'No', '5185', '0', '155', '360', '1', 'Semiurban', 'Y'), ('LP002201', 'Male', 'Yes', '2', 'Graduate', 'Yes', '9323', '7873', '380', '300', '1', 'Rural', 'Y'), ('LP002205', 'Male', 'No', '1', 'Graduate', 'No', '3062', '1987', '111', '180', '0', 'Urban', 'N'), ('LP002209', 'Female', 'No', '0', 'Graduate', '', '2764', '1459', '110', '360', '1', 'Urban', 'Y'), ('LP002211', 'Male', 'Yes', '0', 'Graduate', 'No', '4817', '923', '120', '180', '1', 'Urban', 'Y'), ('LP002219', 'Male', 'Yes', '3+', 'Graduate', 'No', '8750', '4996', '130', '360', '1', 'Rural', 'Y'), ('LP002223', 'Male', 'Yes', '0', 'Graduate', 'No', '4310', '0', '130', '360', '', 'Semiurban', 'Y'), ('LP002224', 'Male', 'No', '0', 'Graduate', 'No', '3069', '0', '71', '480', '1', 'Urban', 'N'), ('LP002225', 'Male', 'Yes', '2', 'Graduate', 'No', '5391', '0', '130', '360', '1', 'Urban', 'Y'), ('LP002226', 'Male', 'Yes', '0', 'Graduate', '', '3333', '2500', '128', '360', '1', 'Semiurban', 'Y'), ('LP002229', 'Male', 'No', '0', 'Graduate', 'No', '5941', '4232', '296', '360', '1', 'Semiurban', 'Y'), ('LP002231', 'Female', 'No', '0', 'Graduate', 'No', '6000', '0', '156', '360', '1', 'Urban', 'Y'), ('LP002234', 'Male', 'No', '0', 'Graduate', 'Yes', '7167', '0', '128', '360', '1', 'Urban', 'Y'), ('LP002236', 'Male', 'Yes', '2', 'Graduate', 'No', '4566', '0', '100', '360', '1', 'Urban', 'N'), ('LP002237', 'Male', 'No', '1', 'Graduate', '', '3667', '0', '113', '180', '1', 'Urban', 'Y'), ('LP002239', 'Male', 'No', '0', 'Not Graduate', 'No', '2346', '1600', '132', '360', '1', 'Semiurban', 'Y'), ('LP002243', 'Male', 'Yes', '0', 'Not Graduate', 'No', '3010', '3136', '', '360', '0', 'Urban', 'N'), ('LP002244', 'Male', 'Yes', '0', 'Graduate', 'No', '2333', '2417', '136', '360', '1', 'Urban', 'Y'), ('LP002250', 'Male', 'Yes', '0', 'Graduate', 'No', '5488', '0', '125', '360', '1', 'Rural', 'Y'), ('LP002255', 'Male', 'No', '3+', 'Graduate', 'No', '9167', '0', '185', '360', '1', 'Rural', 'Y'), ('LP002262', 'Male', 'Yes', '3+', 'Graduate', 'No', '9504', '0', '275', '360', '1', 'Rural', 'Y'), ('LP002263', 'Male', 'Yes', '0', 'Graduate', 'No', '2583', '2115', '120', '360', '', 'Urban', 'Y'), ('LP002265', 'Male', 'Yes', '2', 'Not Graduate', 'No', '1993', '1625', '113', '180', '1', 'Semiurban', 'Y'), ('LP002266', 'Male', 'Yes', '2', 'Graduate', 'No', '3100', '1400', '113', '360', '1', 'Urban', 'Y'), ('LP002272', 'Male', 'Yes', '2', 'Graduate', 'No', '3276', '484', '135', '360', '', 'Semiurban', 'Y'), ('LP002277', 'Female', 'No', '0', 'Graduate', 'No', '3180', '0', '71', '360', '0', 'Urban', 'N'), ('LP002281', 'Male', 'Yes', '0', 'Graduate', 'No', '3033', '1459', '95', '360', '1', 'Urban', 'Y'), ('LP002284', 'Male', 'No', '0', 'Not Graduate', 'No', '3902', '1666', '109', '360', '1', 'Rural', 'Y'), ('LP002287', 'Female', 'No', '0', 'Graduate', 'No', '1500', '1800', '103', '360', '0', 'Semiurban', 'N'), ('LP002288', 'Male', 'Yes', '2', 'Not Graduate', 'No', '2889', '0', '45', '180', '0', 'Urban', 'N'), ('LP002296', 'Male', 'No', '0', 'Not Graduate', 'No', '2755', '0', '65', '300', '1', 'Rural', 'N'), ('LP002297', 'Male', 'No', '0', 'Graduate', 'No', '2500', '20000', '103', '360', '1', 'Semiurban', 'Y'), ('LP002300', 'Female', 'No', '0', 'Not Graduate', 'No', '1963', '0', '53', '360', '1', 'Semiurban', 'Y'), ('LP002301', 'Female', 'No', '0', 'Graduate', 'Yes', '7441', '0', '194', '360', '1', 'Rural', 'N'), ('LP002305', 'Female', 'No', '0', 'Graduate', 'No', '4547', '0', '115', '360', '1', 'Semiurban', 'Y'), ('LP002308', 'Male', 'Yes', '0', 'Not Graduate', 'No', '2167', '2400', '115', '360', '1', 'Urban', 'Y'), ('LP002314', 'Female', 'No', '0', 'Not Graduate', 'No', '2213', '0', '66', '360', '1', 'Rural', 'Y'), ('LP002315', 'Male', 'Yes', '1', 'Graduate', 'No', '8300', '0', '152', '300', '0', 'Semiurban', 'N'), ('LP002317', 'Male', 'Yes', '3+', 'Graduate', 'No', '81000', '0', '360', '360', '0', 'Rural', 'N'), ('LP002318', 'Female', 'No', '1', 'Not Graduate', 'Yes', '3867', '0', '62', '360', '1', 'Semiurban', 'N'), ('LP002319', 'Male', 'Yes', '0', 'Graduate', '', '6256', '0', '160', '360', '', 'Urban', 'Y'), ('LP002328', 'Male', 'Yes', '0', 'Not Graduate', 'No', '6096', '0', '218', '360', '0', 'Rural', 'N'), ('LP002332', 'Male', 'Yes', '0', 'Not Graduate', 'No', '2253', '2033', '110', '360', '1', 'Rural', 'Y'), ('LP002335', 'Female', 'Yes', '0', 'Not Graduate', 'No', '2149', '3237', '178', '360', '0', 'Semiurban', 'N'), ('LP002337', 'Female', 'No', '0', 'Graduate', 'No', '2995', '0', '60', '360', '1', 'Urban', 'Y'), ('LP002341', 'Female', 'No', '1', 'Graduate', 'No', '2600', '0', '160', '360', '1', 'Urban', 'N'), ('LP002342', 'Male', 'Yes', '2', 'Graduate', 'Yes', '1600', '20000', '239', '360', '1', 'Urban', 'N'), ('LP002345', 'Male', 'Yes', '0', 'Graduate', 'No', '1025', '2773', '112', '360', '1', 'Rural', 'Y'), ('LP002347', 'Male', 'Yes', '0', 'Graduate', 'No', '3246', '1417', '138', '360', '1', 'Semiurban', 'Y'), ('LP002348', 'Male', 'Yes', '0', 'Graduate', 'No', '5829', '0', '138', '360', '1', 'Rural', 'Y'), ('LP002357', 'Female', 'No', '0', 'Not Graduate', 'No', '2720', '0', '80', '', '0', 'Urban', 'N'), ('LP002361', 'Male', 'Yes', '0', 'Graduate', 'No', '1820', '1719', '100', '360', '1', 'Urban', 'Y'), ('LP002362', 'Male', 'Yes', '1', 'Graduate', 'No', '7250', '1667', '110', '', '0', 'Urban', 'N'), ('LP002364', 'Male', 'Yes', '0', 'Graduate', 'No', '14880', '0', '96', '360', '1', 'Semiurban', 'Y'), ('LP002366', 'Male', 'Yes', '0', 'Graduate', 'No', '2666', '4300', '121', '360', '1', 'Rural', 'Y'), ('LP002367', 'Female', 'No', '1', 'Not Graduate', 'No', '4606', '0', '81', '360', '1', 'Rural', 'N'), ('LP002368', 'Male', 'Yes', '2', 'Graduate', 'No', '5935', '0', '133', '360', '1', 'Semiurban', 'Y'), ('LP002369', 'Male', 'Yes', '0', 'Graduate', 'No', '2920', '16.12000084', '87', '360', '1', 'Rural', 'Y'), ('LP002370', 'Male', 'No', '0', 'Not Graduate', 'No', '2717', '0', '60', '180', '1', 'Urban', 'Y'), ('LP002377', 'Female', 'No', '1', 'Graduate', 'Yes', '8624', '0', '150', '360', '1', 'Semiurban', 'Y'), ('LP002379', 'Male', 'No', '0', 'Graduate', 'No', '6500', '0', '105', '360', '0', 'Rural', 'N'), ('LP002386', 'Male', 'No', '0', 'Graduate', '', '12876', '0', '405', '360', '1', 'Semiurban', 'Y'), ('LP002387', 'Male', 'Yes', '0', 'Graduate', 'No', '2425', '2340', '143', '360', '1', 'Semiurban', 'Y'), ('LP002390', 'Male', 'No', '0', 'Graduate', 'No', '3750', '0', '100', '360', '1', 'Urban', 'Y'), ('LP002393', 'Female', '', '', 'Graduate', 'No', '10047', '0', '', '240', '1', 'Semiurban', 'Y'), ('LP002398', 'Male', 'No', '0', 'Graduate', 'No', '1926', '1851', '50', '360', '1', 'Semiurban', 'Y'), ('LP002401', 'Male', 'Yes', '0', 'Graduate', 'No', '2213', '1125', '', '360', '1', 'Urban', 'Y'), ('LP002403', 'Male', 'No', '0', 'Graduate', 'Yes', '10416', '0', '187', '360', '0', 'Urban', 'N'), ('LP002407', 'Female', 'Yes', '0', 'Not Graduate', 'Yes', '7142', '0', '138', '360', '1', 'Rural', 'Y'), ('LP002408', 'Male', 'No', '0', 'Graduate', 'No', '3660', '5064', '187', '360', '1', 'Semiurban', 'Y'), ('LP002409', 'Male', 'Yes', '0', 'Graduate', 'No', '7901', '1833', '180', '360', '1', 'Rural', 'Y'), ('LP002418', 'Male', 'No', '3+', 'Not Graduate', 'No', '4707', '1993', '148', '360', '1', 'Semiurban', 'Y'), ('LP002422', 'Male', 'No', '1', 'Graduate', 'No', '37719', '0', '152', '360', '1', 'Semiurban', 'Y'), ('LP002424', 'Male', 'Yes', '0', 'Graduate', 'No', '7333', '8333', '175', '300', '', 'Rural', 'Y'), ('LP002429', 'Male', 'Yes', '1', 'Graduate', 'Yes', '3466', '1210', '130', '360', '1', 'Rural', 'Y'), ('LP002434', 'Male', 'Yes', '2', 'Not Graduate', 'No', '4652', '0', '110', '360', '1', 'Rural', 'Y'), ('LP002435', 'Male', 'Yes', '0', 'Graduate', '', '3539', '1376', '55', '360', '1', 'Rural', 'N'), ('LP002443', 'Male', 'Yes', '2', 'Graduate', 'No', '3340', '1710', '150', '360', '0', 'Rural', 'N'), ('LP002444', 'Male', 'No', '1', 'Not Graduate', 'Yes', '2769', '1542', '190', '360', '', 'Semiurban', 'N'), ('LP002446', 'Male', 'Yes', '2', 'Not Graduate', 'No', '2309', '1255', '125', '360', '0', 'Rural', 'N'), ('LP002447', 'Male', 'Yes', '2', 'Not Graduate', 'No', '1958', '1456', '60', '300', '', 'Urban', 'Y'), ('LP002448', 'Male', 'Yes', '0', 'Graduate', 'No', '3948', '1733', '149', '360', '0', 'Rural', 'N'), ('LP002449', 'Male', 'Yes', '0', 'Graduate', 'No', '2483', '2466', '90', '180', '0', 'Rural', 'Y'), ('LP002453', 'Male', 'No', '0', 'Graduate', 'Yes', '7085', '0', '84', '360', '1', 'Semiurban', 'Y'), ('LP002455', 'Male', 'Yes', '2', 'Graduate', 'No', '3859', '0', '96', '360', '1', 'Semiurban', 'Y'), ('LP002459', 'Male', 'Yes', '0', 'Graduate', 'No', '4301', '0', '118', '360', '1', 'Urban', 'Y'), ('LP002467', 'Male', 'Yes', '0', 'Graduate', 'No', '3708', '2569', '173', '360', '1', 'Urban', 'N'), ('LP002472', 'Male', 'No', '2', 'Graduate', 'No', '4354', '0', '136', '360', '1', 'Rural', 'Y'), ('LP002473', 'Male', 'Yes', '0', 'Graduate', 'No', '8334', '0', '160', '360', '1', 'Semiurban', 'N'), ('LP002478', '', 'Yes', '0', 'Graduate', 'Yes', '2083', '4083', '160', '360', '', 'Semiurban', 'Y'), ('LP002484', 'Male', 'Yes', '3+', 'Graduate', 'No', '7740', '0', '128', '180', '1', 'Urban', 'Y'), ('LP002487', 'Male', 'Yes', '0', 'Graduate', 'No', '3015', '2188', '153', '360', '1', 'Rural', 'Y'), ('LP002489', 'Female', 'No', '1', 'Not Graduate', '', '5191', '0', '132', '360', '1', 'Semiurban', 'Y'), ('LP002493', 'Male', 'No', '0', 'Graduate', 'No', '4166', '0', '98', '360', '0', 'Semiurban', 'N'), ('LP002494', 'Male', 'No', '0', 'Graduate', 'No', '6000', '0', '140', '360', '1', 'Rural', 'Y'), ('LP002500', 'Male', 'Yes', '3+', 'Not Graduate', 'No', '2947', '1664', '70', '180', '0', 'Urban', 'N'), ('LP002501', '', 'Yes', '0', 'Graduate', 'No', '16692', '0', '110', '360', '1', 'Semiurban', 'Y'), ('LP002502', 'Female', 'Yes', '2', 'Not Graduate', '', '210', '2917', '98', '360', '1', 'Semiurban', 'Y'), ('LP002505', 'Male', 'Yes', '0', 'Graduate', 'No', '4333', '2451', '110', '360', '1', 'Urban', 'N'), ('LP002515', 'Male', 'Yes', '1', 'Graduate', 'Yes', '3450', '2079', '162', '360', '1', 'Semiurban', 'Y'), ('LP002517', 'Male', 'Yes', '1', 'Not Graduate', 'No', '2653', '1500', '113', '180', '0', 'Rural', 'N'), ('LP002519', 'Male', 'Yes', '3+', 'Graduate', 'No', '4691', '0', '100', '360', '1', 'Semiurban', 'Y'), ('LP002522', 'Female', 'No', '0', 'Graduate', 'Yes', '2500', '0', '93', '360', '', 'Urban', 'Y'), ('LP002524', 'Male', 'No', '2', 'Graduate', 'No', '5532', '4648', '162', '360', '1', 'Rural', 'Y'), ('LP002527', 'Male', 'Yes', '2', 'Graduate', 'Yes', '16525', '1014', '150', '360', '1', 'Rural', 'Y'), ('LP002529', 'Male', 'Yes', '2', 'Graduate', 'No', '6700', '1750', '230', '300', '1', 'Semiurban', 'Y'), ('LP002530', '', 'Yes', '2', 'Graduate', 'No', '2873', '1872', '132', '360', '0', 'Semiurban', 'N'), ('LP002531', 'Male', 'Yes', '1', 'Graduate', 'Yes', '16667', '2250', '86', '360', '1', 'Semiurban', 'Y'), ('LP002533', 'Male', 'Yes', '2', 'Graduate', 'No', '2947', '1603', '', '360', '1', 'Urban', 'N'), ('LP002534', 'Female', 'No', '0', 'Not Graduate', 'No', '4350', '0', '154', '360', '1', 'Rural', 'Y'), ('LP002536', 'Male', 'Yes', '3+', 'Not Graduate', 'No', '3095', '0', '113', '360', '1', 'Rural', 'Y'), ('LP002537', 'Male', 'Yes', '0', 'Graduate', 'No', '2083', '3150', '128', '360', '1', 'Semiurban', 'Y'), ('LP002541', 'Male', 'Yes', '0', 'Graduate', 'No', '10833', '0', '234', '360', '1', 'Semiurban', 'Y'), ('LP002543', 'Male', 'Yes', '2', 'Graduate', 'No', '8333', '0', '246', '360', '1', 'Semiurban', 'Y'), ('LP002544', 'Male', 'Yes', '1', 'Not Graduate', 'No', '1958', '2436', '131', '360', '1', 'Rural', 'Y'), ('LP002545', 'Male', 'No', '2', 'Graduate', 'No', '3547', '0', '80', '360', '0', 'Rural', 'N'), ('LP002547', 'Male', 'Yes', '1', 'Graduate', 'No', '18333', '0', '500', '360', '1', 'Urban', 'N'), ('LP002555', 'Male', 'Yes', '2', 'Graduate', 'Yes', '4583', '2083', '160', '360', '1', 'Semiurban', 'Y'), ('LP002556', 'Male', 'No', '0', 'Graduate', 'No', '2435', '0', '75', '360', '1', 'Urban', 'N'), ('LP002560', 'Male', 'No', '0', 'Not Graduate', 'No', '2699', '2785', '96', '360', '', 'Semiurban', 'Y'), ('LP002562', 'Male', 'Yes', '1', 'Not Graduate', 'No', '5333', '1131', '186', '360', '', 'Urban', 'Y'), ('LP002571', 'Male', 'No', '0', 'Not Graduate', 'No', '3691', '0', '110', '360', '1', 'Rural', 'Y'), ('LP002582', 'Female', 'No', '0', 'Not Graduate', 'Yes', '17263', '0', '225', '360', '1', 'Semiurban', 'Y'), ('LP002585', 'Male', 'Yes', '0', 'Graduate', 'No', '3597', '2157', '119', '360', '0', 'Rural', 'N'), ('LP002586', 'Female', 'Yes', '1', 'Graduate', 'No', '3326', '913', '105', '84', '1', 'Semiurban', 'Y'), ('LP002587', 'Male', 'Yes', '0', 'Not Graduate', 'No', '2600', '1700', '107', '360', '1', 'Rural', 'Y'), ('LP002588', 'Male', 'Yes', '0', 'Graduate', 'No', '4625', '2857', '111', '12', '', 'Urban', 'Y'), ('LP002600', 'Male', 'Yes', '1', 'Graduate', 'Yes', '2895', '0', '95', '360', '1', 'Semiurban', 'Y'), ('LP002602', 'Male', 'No', '0', 'Graduate', 'No', '6283', '4416', '209', '360', '0', 'Rural', 'N'), ('LP002603', 'Female', 'No', '0', 'Graduate', 'No', '645', '3683', '113', '480', '1', 'Rural', 'Y'), ('LP002606', 'Female', 'No', '0', 'Graduate', 'No', '3159', '0', '100', '360', '1', 'Semiurban', 'Y'), ('LP002615', 'Male', 'Yes', '2', 'Graduate', 'No', '4865', '5624', '208', '360', '1', 'Semiurban', 'Y'), ('LP002618', 'Male', 'Yes', '1', 'Not Graduate', 'No', '4050', '5302', '138', '360', '', 'Rural', 'N'), ('LP002619', 'Male', 'Yes', '0', 'Not Graduate', 'No', '3814', '1483', '124', '300', '1', 'Semiurban', 'Y'), ('LP002622', 'Male', 'Yes', '2', 'Graduate', 'No', '3510', '4416', '243', '360', '1', 'Rural', 'Y'), ('LP002624', 'Male', 'Yes', '0', 'Graduate', 'No', '20833', '6667', '480', '360', '', 'Urban', 'Y'), ('LP002625', '', 'No', '0', 'Graduate', 'No', '3583', '0', '96', '360', '1', 'Urban', 'N'), ('LP002626', 'Male', 'Yes', '0', 'Graduate', 'Yes', '2479', '3013', '188', '360', '1', 'Urban', 'Y'), ('LP002634', 'Female', 'No', '1', 'Graduate', 'No', '13262', '0', '40', '360', '1', 'Urban', 'Y'), ('LP002637', 'Male', 'No', '0', 'Not Graduate', 'No', '3598', '1287', '100', '360', '1', 'Rural', 'N'), ('LP002640', 'Male', 'Yes', '1', 'Graduate', 'No', '6065', '2004', '250', '360', '1', 'Semiurban', 'Y'), ('LP002643', 'Male', 'Yes', '2', 'Graduate', 'No', '3283', '2035', '148', '360', '1', 'Urban', 'Y'), ('LP002648', 'Male', 'Yes', '0', 'Graduate', 'No', '2130', '6666', '70', '180', '1', 'Semiurban', 'N'), ('LP002652', 'Male', 'No', '0', 'Graduate', 'No', '5815', '3666', '311', '360', '1', 'Rural', 'N'), ('LP002659', 'Male', 'Yes', '3+', 'Graduate', 'No', '3466', '3428', '150', '360', '1', 'Rural', 'Y'), ('LP002670', 'Female', 'Yes', '2', 'Graduate', 'No', '2031', '1632', '113', '480', '1', 'Semiurban', 'Y'), ('LP002682', 'Male', 'Yes', '', 'Not Graduate', 'No', '3074', '1800', '123', '360', '0', 'Semiurban', 'N'), ('LP002683', 'Male', 'No', '0', 'Graduate', 'No', '4683', '1915', '185', '360', '1', 'Semiurban', 'N'), ('LP002684', 'Female', 'No', '0', 'Not Graduate', 'No', '3400', '0', '95', '360', '1', 'Rural', 'N'), ('LP002689', 'Male', 'Yes', '2', 'Not Graduate', 'No', '2192', '1742', '45', '360', '1', 'Semiurban', 'Y'), ('LP002690', 'Male', 'No', '0', 'Graduate', 'No', '2500', '0', '55', '360', '1', 'Semiurban', 'Y'), ('LP002692', 'Male', 'Yes', '3+', 'Graduate', 'Yes', '5677', '1424', '100', '360', '1', 'Rural', 'Y'), ('LP002693', 'Male', 'Yes', '2', 'Graduate', 'Yes', '7948', '7166', '480', '360', '1', 'Rural', 'Y'), ('LP002697', 'Male', 'No', '0', 'Graduate', 'No', '4680', '2087', '', '360', '1', 'Semiurban', 'N'), ('LP002699', 'Male', 'Yes', '2', 'Graduate', 'Yes', '17500', '0', '400', '360', '1', 'Rural', 'Y'), ('LP002705', 'Male', 'Yes', '0', 'Graduate', 'No', '3775', '0', '110', '360', '1', 'Semiurban', 'Y'), ('LP002706', 'Male', 'Yes', '1', 'Not Graduate', 'No', '5285', '1430', '161', '360', '0', 'Semiurban', 'Y'), ('LP002714', 'Male', 'No', '1', 'Not Graduate', 'No', '2679', '1302', '94', '360', '1', 'Semiurban', 'Y'), ('LP002716', 'Male', 'No', '0', 'Not Graduate', 'No', '6783', '0', '130', '360', '1', 'Semiurban', 'Y'), ('LP002717', 'Male', 'Yes', '0', 'Graduate', 'No', '1025', '5500', '216', '360', '', 'Rural', 'Y'), ('LP002720', 'Male', 'Yes', '3+', 'Graduate', 'No', '4281', '0', '100', '360', '1', 'Urban', 'Y'), ('LP002723', 'Male', 'No', '2', 'Graduate', 'No', '3588', '0', '110', '360', '0', 'Rural', 'N'), ('LP002729', 'Male', 'No', '1', 'Graduate', 'No', '11250', '0', '196', '360', '', 'Semiurban', 'N'), ('LP002731', 'Female', 'No', '0', 'Not Graduate', 'Yes', '18165', '0', '125', '360', '1', 'Urban', 'Y'), ('LP002732', 'Male', 'No', '0', 'Not Graduate', '', '2550', '2042', '126', '360', '1', 'Rural', 'Y'), ('LP002734', 'Male', 'Yes', '0', 'Graduate', 'No', '6133', '3906', '324', '360', '1', 'Urban', 'Y'), ('LP002738', 'Male', 'No', '2', 'Graduate', 'No', '3617', '0', '107', '360', '1', 'Semiurban', 'Y'), ('LP002739', 'Male', 'Yes', '0', 'Not Graduate', 'No', '2917', '536', '66', '360', '1', 'Rural', 'N'), ('LP002740', 'Male', 'Yes', '3+', 'Graduate', 'No', '6417', '0', '157', '180', '1', 'Rural', 'Y'), ('LP002741', 'Female', 'Yes', '1', 'Graduate', 'No', '4608', '2845', '140', '180', '1', 'Semiurban', 'Y'), ('LP002743', 'Female', 'No', '0', 'Graduate', 'No', '2138', '0', '99', '360', '0', 'Semiurban', 'N'), ('LP002753', 'Female', 'No', '1', 'Graduate', '', '3652', '0', '95', '360', '1', 'Semiurban', 'Y'), ('LP002755', 'Male', 'Yes', '1', 'Not Graduate', 'No', '2239', '2524', '128', '360', '1', 'Urban', 'Y'), ('LP002757', 'Female', 'Yes', '0', 'Not Graduate', 'No', '3017', '663', '102', '360', '', 'Semiurban', 'Y'), ('LP002767', 'Male', 'Yes', '0', 'Graduate', 'No', '2768', '1950', '155', '360', '1', 'Rural', 'Y'), ('LP002768', 'Male', 'No', '0', 'Not Graduate', 'No', '3358', '0', '80', '36', '1', 'Semiurban', 'N'), ('LP002772', 'Male', 'No', '0', 'Graduate', 'No', '2526', '1783', '145', '360', '1', 'Rural', 'Y'), ('LP002776', 'Female', 'No', '0', 'Graduate', 'No', '5000', '0', '103', '360', '0', 'Semiurban', 'N'), ('LP002777', 'Male', 'Yes', '0', 'Graduate', 'No', '2785', '2016', '110', '360', '1', 'Rural', 'Y'), ('LP002778', 'Male', 'Yes', '2', 'Graduate', 'Yes', '6633', '0', '', '360', '0', 'Rural', 'N'), ('LP002784', 'Male', 'Yes', '1', 'Not Graduate', 'No', '2492', '2375', '', '360', '1', 'Rural', 'Y'), ('LP002785', 'Male', 'Yes', '1', 'Graduate', 'No', '3333', '3250', '158', '360', '1', 'Urban', 'Y'), ('LP002788', 'Male', 'Yes', '0', 'Not Graduate', 'No', '2454', '2333', '181', '360', '0', 'Urban', 'N'), ('LP002789', 'Male', 'Yes', '0', 'Graduate', 'No', '3593', '4266', '132', '180', '0', 'Rural', 'N'), ('LP002792', 'Male', 'Yes', '1', 'Graduate', 'No', '5468', '1032', '26', '360', '1', 'Semiurban', 'Y'), ('LP002794', 'Female', 'No', '0', 'Graduate', 'No', '2667', '1625', '84', '360', '', 'Urban', 'Y'), ('LP002795', 'Male', 'Yes', '3+', 'Graduate', 'Yes', '10139', '0', '260', '360', '1', 'Semiurban', 'Y'), ('LP002798', 'Male', 'Yes', '0', 'Graduate', 'No', '3887', '2669', '162', '360', '1', 'Semiurban', 'Y'), ('LP002804', 'Female', 'Yes', '0', 'Graduate', 'No', '4180', '2306', '182', '360', '1', 'Semiurban', 'Y'), ('LP002807', 'Male', 'Yes', '2', 'Not Graduate', 'No', '3675', '242', '108', '360', '1', 'Semiurban', 'Y'), ('LP002813', 'Female', 'Yes', '1', 'Graduate', 'Yes', '19484', '0', '600', '360', '1', 'Semiurban', 'Y'), ('LP002820', 'Male', 'Yes', '0', 'Graduate', 'No', '5923', '2054', '211', '360', '1', 'Rural', 'Y'), ('LP002821', 'Male', 'No', '0', 'Not Graduate', 'Yes', '5800', '0', '132', '360', '1', 'Semiurban', 'Y'), ('LP002832', 'Male', 'Yes', '2', 'Graduate', 'No', '8799', '0', '258', '360', '0', 'Urban', 'N'), ('LP002833', 'Male', 'Yes', '0', 'Not Graduate', 'No', '4467', '0', '120', '360', '', 'Rural', 'Y'), ('LP002836', 'Male', 'No', '0', 'Graduate', 'No', '3333', '0', '70', '360', '1', 'Urban', 'Y'), ('LP002837', 'Male', 'Yes', '3+', 'Graduate', 'No', '3400', '2500', '123', '360', '0', 'Rural', 'N'), ('LP002840', 'Female', 'No', '0', 'Graduate', 'No', '2378', '0', '9', '360', '1', 'Urban', 'N'), ('LP002841', 'Male', 'Yes', '0', 'Graduate', 'No', '3166', '2064', '104', '360', '0', 'Urban', 'N'), ('LP002842', 'Male', 'Yes', '1', 'Graduate', 'No', '3417', '1750', '186', '360', '1', 'Urban', 'Y'), ('LP002847', 'Male', 'Yes', '', 'Graduate', 'No', '5116', '1451', '165', '360', '0', 'Urban', 'N'), ('LP002855', 'Male', 'Yes', '2', 'Graduate', 'No', '16666', '0', '275', '360', '1', 'Urban', 'Y'), ('LP002862', 'Male', 'Yes', '2', 'Not Graduate', 'No', '6125', '1625', '187', '480', '1', 'Semiurban', 'N'), ('LP002863', 'Male', 'Yes', '3+', 'Graduate', 'No', '6406', '0', '150', '360', '1', 'Semiurban', 'N'), ('LP002868', 'Male', 'Yes', '2', 'Graduate', 'No', '3159', '461', '108', '84', '1', 'Urban', 'Y'), ('LP002872', '', 'Yes', '0', 'Graduate', 'No', '3087', '2210', '136', '360', '0', 'Semiurban', 'N'), ('LP002874', 'Male', 'No', '0', 'Graduate', 'No', '3229', '2739', '110', '360', '1', 'Urban', 'Y'), ('LP002877', 'Male', 'Yes', '1', 'Graduate', 'No', '1782', '2232', '107', '360', '1', 'Rural', 'Y'), ('LP002888', 'Male', 'No', '0', 'Graduate', '', '3182', '2917', '161', '360', '1', 'Urban', 'Y'), ('LP002892', 'Male', 'Yes', '2', 'Graduate', 'No', '6540', '0', '205', '360', '1', 'Semiurban', 'Y'), ('LP002893', 'Male', 'No', '0', 'Graduate', 'No', '1836', '33837', '90', '360', '1', 'Urban', 'N'), ('LP002894', 'Female', 'Yes', '0', 'Graduate', 'No', '3166', '0', '36', '360', '1', 'Semiurban', 'Y'), ('LP002898', 'Male', 'Yes', '1', 'Graduate', 'No', '1880', '0', '61', '360', '', 'Rural', 'N'), ('LP002911', 'Male', 'Yes', '1', 'Graduate', 'No', '2787', '1917', '146', '360', '0', 'Rural', 'N'), ('LP002912', 'Male', 'Yes', '1', 'Graduate', 'No', '4283', '3000', '172', '84', '1', 'Rural', 'N'), ('LP002916', 'Male', 'Yes', '0', 'Graduate', 'No', '2297', '1522', '104', '360', '1', 'Urban', 'Y'), ('LP002917', 'Female', 'No', '0', 'Not Graduate', 'No', '2165', '0', '70', '360', '1', 'Semiurban', 'Y'), ('LP002925', '', 'No', '0', 'Graduate', 'No', '4750', '0', '94', '360', '1', 'Semiurban', 'Y'), ('LP002926', 'Male', 'Yes', '2', 'Graduate', 'Yes', '2726', '0', '106', '360', '0', 'Semiurban', 'N'), ('LP002928', 'Male', 'Yes', '0', 'Graduate', 'No', '3000', '3416', '56', '180', '1', 'Semiurban', 'Y'), ('LP002931', 'Male', 'Yes', '2', 'Graduate', 'Yes', '6000', '0', '205', '240', '1', 'Semiurban', 'N'), ('LP002933', '', 'No', '3+', 'Graduate', 'Yes', '9357', '0', '292', '360', '1', 'Semiurban', 'Y'), ('LP002936', 'Male', 'Yes', '0', 'Graduate', 'No', '3859', '3300', '142', '180', '1', 'Rural', 'Y'), ('LP002938', 'Male', 'Yes', '0', 'Graduate', 'Yes', '16120', '0', '260', '360', '1', 'Urban', 'Y'), ('LP002940', 'Male', 'No', '0', 'Not Graduate', 'No', '3833', '0', '110', '360', '1', 'Rural', 'Y'), ('LP002941', 'Male', 'Yes', '2', 'Not Graduate', 'Yes', '6383', '1000', '187', '360', '1', 'Rural', 'N'), ('LP002943', 'Male', 'No', '', 'Graduate', 'No', '2987', '0', '88', '360', '0', 'Semiurban', 'N'), ('LP002945', 'Male', 'Yes', '0', 'Graduate', 'Yes', '9963', '0', '180', '360', '1', 'Rural', 'Y'), ('LP002948', 'Male', 'Yes', '2', 'Graduate', 'No', '5780', '0', '192', '360', '1', 'Urban', 'Y'), ('LP002949', 'Female', 'No', '3+', 'Graduate', '', '416', '41667', '350', '180', '', 'Urban', 'N'), ('LP002950', 'Male', 'Yes', '0', 'Not Graduate', '', '2894', '2792', '155', '360', '1', 'Rural', 'Y'), ('LP002953', 'Male', 'Yes', '3+', 'Graduate', 'No', '5703', '0', '128', '360', '1', 'Urban', 'Y'), ('LP002958', 'Male', 'No', '0', 'Graduate', 'No', '3676', '4301', '172', '360', '1', 'Rural', 'Y'), ('LP002959', 'Female', 'Yes', '1', 'Graduate', 'No', '12000', '0', '496', '360', '1', 'Semiurban', 'Y'), ('LP002960', 'Male', 'Yes', '0', 'Not Graduate', 'No', '2400', '3800', '', '180', '1', 'Urban', 'N'), ('LP002961', 'Male', 'Yes', '1', 'Graduate', 'No', '3400', '2500', '173', '360', '1', 'Semiurban', 'Y'), ('LP002964', 'Male', 'Yes', '2', 'Not Graduate', 'No', '3987', '1411', '157', '360', '1', 'Rural', 'Y'), ('LP002974', 'Male', 'Yes', '0', 'Graduate', 'No', '3232', '1950', '108', '360', '1', 'Rural', 'Y'), ('LP002978', 'Female', 'No', '0', 'Graduate', 'No', '2900', '0', '71', '360', '1', 'Rural', 'Y'), ('LP002979', 'Male', 'Yes', '3+', 'Graduate', 'No', '4106', '0', '40', '180', '1', 'Rural', 'Y'), ('LP002983', 'Male', 'Yes', '1', 'Graduate', 'No', '8072', '240', '253', '360', '1', 'Urban', 'Y'), ('LP002984', 'Male', 'Yes', '2', 'Graduate', 'No', '7583', '0', '187', '360', '1', 'Urban', 'Y'), ('LP002990', 'Female', 'No', '0', 'Graduate', 'Yes', '4583', '0', '133', '360', '0', 'Semiurban', 'N')]\n"
     ]
    }
   ],
   "source": [
    "import csv\n",
    "\n",
    "# Provide the path to your CSV file\n",
    "file_path = 'train.csv'\n",
    "\n",
    "# Initialize an empty list to store the data\n",
    "data = []\n",
    "\n",
    "# Open the CSV file and read its content\n",
    "with open(file_path, mode='r') as file:\n",
    "    csv_file = csv.reader(file)\n",
    "    # Iterate through each row in the CSV file\n",
    "    for row in csv_file:\n",
    "        data.append(tuple(row))\n",
    "\n",
    "# Print the list of tuples\n",
    "print(data)"
   ]
  },
  {
   "cell_type": "code",
   "execution_count": 9,
   "id": "eef7ee0b-c542-4c7e-bdd1-e47db10faa81",
   "metadata": {},
   "outputs": [
    {
     "name": "stdout",
     "output_type": "stream",
     "text": [
      "entries to be loaded into the database:  614\n"
     ]
    }
   ],
   "source": [
    "#print(data[1:])\n",
    "\n",
    "print(\"entries to be loaded into the database: \", len(data[1:]))"
   ]
  },
  {
   "cell_type": "code",
   "execution_count": 10,
   "id": "a05ddf17-a6a5-44b0-9f29-4c51e5b07b32",
   "metadata": {},
   "outputs": [
    {
     "name": "stdout",
     "output_type": "stream",
     "text": [
      "Loan_ID              LP001002\n",
      "Gender                   Male\n",
      "Married                    No\n",
      "Dependents                  0\n",
      "Education            Graduate\n",
      "Self_Employed              No\n",
      "ApplicantIncome          5849\n",
      "CoapplicantIncome         0.0\n",
      "LoanAmount                NaN\n",
      "Loan_Amount_Term        360.0\n",
      "Credit_History            1.0\n",
      "Property_Area           Urban\n",
      "Loan_Status                 Y\n",
      "Name: 0, dtype: object\n",
      "\n",
      "\n"
     ]
    }
   ],
   "source": [
    "for index, row in df.iterrows():\n",
    "    \n",
    "    print(row)\n",
    "    print(\"\\n\")  # Add a new line for better readability\n",
    "    break\n"
   ]
  },
  {
   "cell_type": "code",
   "execution_count": 11,
   "id": "75111680-6968-4228-928c-afa640467e89",
   "metadata": {},
   "outputs": [
    {
     "name": "stdout",
     "output_type": "stream",
     "text": [
      "('apple', None, 'banana', None, 'cherry', None)\n"
     ]
    }
   ],
   "source": [
    "# Example tuple\n",
    "my_tuple = ('apple', '', 'banana', '', 'cherry', '')\n",
    "\n",
    "# Convert the tuple to a list, replace empty strings with None, and convert it back to a tuple\n",
    "modified_tuple = tuple(None if x == '' else x for x in my_tuple)\n",
    "\n",
    "print(modified_tuple)\n"
   ]
  }
 ],
 "metadata": {
  "kernelspec": {
   "display_name": "Python 3 (ipykernel)",
   "language": "python",
   "name": "python3"
  },
  "language_info": {
   "codemirror_mode": {
    "name": "ipython",
    "version": 3
   },
   "file_extension": ".py",
   "mimetype": "text/x-python",
   "name": "python",
   "nbconvert_exporter": "python",
   "pygments_lexer": "ipython3",
   "version": "3.11.6"
  }
 },
 "nbformat": 4,
 "nbformat_minor": 5
}
